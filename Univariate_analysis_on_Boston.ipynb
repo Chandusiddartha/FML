{
  "nbformat": 4,
  "nbformat_minor": 0,
  "metadata": {
    "colab": {
      "provenance": [],
      "authorship_tag": "ABX9TyPRHcU/uhu1UOLt5KIuHCn/",
      "include_colab_link": true
    },
    "kernelspec": {
      "name": "python3",
      "display_name": "Python 3"
    },
    "language_info": {
      "name": "python"
    }
  },
  "cells": [
    {
      "cell_type": "markdown",
      "metadata": {
        "id": "view-in-github",
        "colab_type": "text"
      },
      "source": [
        "<a href=\"https://colab.research.google.com/github/Chandusiddartha/FML/blob/main/Univariate_analysis_on_Boston.ipynb\" target=\"_parent\"><img src=\"https://colab.research.google.com/assets/colab-badge.svg\" alt=\"Open In Colab\"/></a>"
      ]
    },
    {
      "cell_type": "code",
      "execution_count": 2,
      "metadata": {
        "id": "3Smi8fM84Qxp"
      },
      "outputs": [],
      "source": [
        "import numpy as np\n",
        "import pandas as pd\n",
        "import matplotlib.pyplot as plt"
      ]
    },
    {
      "cell_type": "code",
      "source": [
        "data=pd.read_csv('boston.csv')\n",
        "data.head()"
      ],
      "metadata": {
        "colab": {
          "base_uri": "https://localhost:8080/",
          "height": 205
        },
        "id": "f1HIqm995Q7s",
        "outputId": "df4896b5-634e-4a01-f64a-9fd260da12f6"
      },
      "execution_count": 4,
      "outputs": [
        {
          "output_type": "execute_result",
          "data": {
            "text/plain": [
              "      crim    zn  indus  chas    nox     rm   age     dis  rad  tax  ptratio  \\\n",
              "0  0.00632  18.0   2.31     0  0.538  6.575  65.2  4.0900    1  296     15.3   \n",
              "1  0.02731   0.0   7.07     0  0.469  6.421  78.9  4.9671    2  242     17.8   \n",
              "2  0.02729   0.0   7.07     0  0.469  7.185  61.1  4.9671    2  242     17.8   \n",
              "3  0.03237   0.0   2.18     0  0.458  6.998  45.8  6.0622    3  222     18.7   \n",
              "4  0.06905   0.0   2.18     0  0.458  7.147  54.2  6.0622    3  222     18.7   \n",
              "\n",
              "        b  lstat  medv  \n",
              "0  396.90   4.98  24.0  \n",
              "1  396.90   9.14  21.6  \n",
              "2  392.83   4.03  34.7  \n",
              "3  394.63   2.94  33.4  \n",
              "4  396.90   5.33  36.2  "
            ],
            "text/html": [
              "\n",
              "  <div id=\"df-7028cfac-36ed-430c-b662-76ebaaaadf0a\">\n",
              "    <div class=\"colab-df-container\">\n",
              "      <div>\n",
              "<style scoped>\n",
              "    .dataframe tbody tr th:only-of-type {\n",
              "        vertical-align: middle;\n",
              "    }\n",
              "\n",
              "    .dataframe tbody tr th {\n",
              "        vertical-align: top;\n",
              "    }\n",
              "\n",
              "    .dataframe thead th {\n",
              "        text-align: right;\n",
              "    }\n",
              "</style>\n",
              "<table border=\"1\" class=\"dataframe\">\n",
              "  <thead>\n",
              "    <tr style=\"text-align: right;\">\n",
              "      <th></th>\n",
              "      <th>crim</th>\n",
              "      <th>zn</th>\n",
              "      <th>indus</th>\n",
              "      <th>chas</th>\n",
              "      <th>nox</th>\n",
              "      <th>rm</th>\n",
              "      <th>age</th>\n",
              "      <th>dis</th>\n",
              "      <th>rad</th>\n",
              "      <th>tax</th>\n",
              "      <th>ptratio</th>\n",
              "      <th>b</th>\n",
              "      <th>lstat</th>\n",
              "      <th>medv</th>\n",
              "    </tr>\n",
              "  </thead>\n",
              "  <tbody>\n",
              "    <tr>\n",
              "      <th>0</th>\n",
              "      <td>0.00632</td>\n",
              "      <td>18.0</td>\n",
              "      <td>2.31</td>\n",
              "      <td>0</td>\n",
              "      <td>0.538</td>\n",
              "      <td>6.575</td>\n",
              "      <td>65.2</td>\n",
              "      <td>4.0900</td>\n",
              "      <td>1</td>\n",
              "      <td>296</td>\n",
              "      <td>15.3</td>\n",
              "      <td>396.90</td>\n",
              "      <td>4.98</td>\n",
              "      <td>24.0</td>\n",
              "    </tr>\n",
              "    <tr>\n",
              "      <th>1</th>\n",
              "      <td>0.02731</td>\n",
              "      <td>0.0</td>\n",
              "      <td>7.07</td>\n",
              "      <td>0</td>\n",
              "      <td>0.469</td>\n",
              "      <td>6.421</td>\n",
              "      <td>78.9</td>\n",
              "      <td>4.9671</td>\n",
              "      <td>2</td>\n",
              "      <td>242</td>\n",
              "      <td>17.8</td>\n",
              "      <td>396.90</td>\n",
              "      <td>9.14</td>\n",
              "      <td>21.6</td>\n",
              "    </tr>\n",
              "    <tr>\n",
              "      <th>2</th>\n",
              "      <td>0.02729</td>\n",
              "      <td>0.0</td>\n",
              "      <td>7.07</td>\n",
              "      <td>0</td>\n",
              "      <td>0.469</td>\n",
              "      <td>7.185</td>\n",
              "      <td>61.1</td>\n",
              "      <td>4.9671</td>\n",
              "      <td>2</td>\n",
              "      <td>242</td>\n",
              "      <td>17.8</td>\n",
              "      <td>392.83</td>\n",
              "      <td>4.03</td>\n",
              "      <td>34.7</td>\n",
              "    </tr>\n",
              "    <tr>\n",
              "      <th>3</th>\n",
              "      <td>0.03237</td>\n",
              "      <td>0.0</td>\n",
              "      <td>2.18</td>\n",
              "      <td>0</td>\n",
              "      <td>0.458</td>\n",
              "      <td>6.998</td>\n",
              "      <td>45.8</td>\n",
              "      <td>6.0622</td>\n",
              "      <td>3</td>\n",
              "      <td>222</td>\n",
              "      <td>18.7</td>\n",
              "      <td>394.63</td>\n",
              "      <td>2.94</td>\n",
              "      <td>33.4</td>\n",
              "    </tr>\n",
              "    <tr>\n",
              "      <th>4</th>\n",
              "      <td>0.06905</td>\n",
              "      <td>0.0</td>\n",
              "      <td>2.18</td>\n",
              "      <td>0</td>\n",
              "      <td>0.458</td>\n",
              "      <td>7.147</td>\n",
              "      <td>54.2</td>\n",
              "      <td>6.0622</td>\n",
              "      <td>3</td>\n",
              "      <td>222</td>\n",
              "      <td>18.7</td>\n",
              "      <td>396.90</td>\n",
              "      <td>5.33</td>\n",
              "      <td>36.2</td>\n",
              "    </tr>\n",
              "  </tbody>\n",
              "</table>\n",
              "</div>\n",
              "      <button class=\"colab-df-convert\" onclick=\"convertToInteractive('df-7028cfac-36ed-430c-b662-76ebaaaadf0a')\"\n",
              "              title=\"Convert this dataframe to an interactive table.\"\n",
              "              style=\"display:none;\">\n",
              "        \n",
              "  <svg xmlns=\"http://www.w3.org/2000/svg\" height=\"24px\"viewBox=\"0 0 24 24\"\n",
              "       width=\"24px\">\n",
              "    <path d=\"M0 0h24v24H0V0z\" fill=\"none\"/>\n",
              "    <path d=\"M18.56 5.44l.94 2.06.94-2.06 2.06-.94-2.06-.94-.94-2.06-.94 2.06-2.06.94zm-11 1L8.5 8.5l.94-2.06 2.06-.94-2.06-.94L8.5 2.5l-.94 2.06-2.06.94zm10 10l.94 2.06.94-2.06 2.06-.94-2.06-.94-.94-2.06-.94 2.06-2.06.94z\"/><path d=\"M17.41 7.96l-1.37-1.37c-.4-.4-.92-.59-1.43-.59-.52 0-1.04.2-1.43.59L10.3 9.45l-7.72 7.72c-.78.78-.78 2.05 0 2.83L4 21.41c.39.39.9.59 1.41.59.51 0 1.02-.2 1.41-.59l7.78-7.78 2.81-2.81c.8-.78.8-2.07 0-2.86zM5.41 20L4 18.59l7.72-7.72 1.47 1.35L5.41 20z\"/>\n",
              "  </svg>\n",
              "      </button>\n",
              "      \n",
              "  <style>\n",
              "    .colab-df-container {\n",
              "      display:flex;\n",
              "      flex-wrap:wrap;\n",
              "      gap: 12px;\n",
              "    }\n",
              "\n",
              "    .colab-df-convert {\n",
              "      background-color: #E8F0FE;\n",
              "      border: none;\n",
              "      border-radius: 50%;\n",
              "      cursor: pointer;\n",
              "      display: none;\n",
              "      fill: #1967D2;\n",
              "      height: 32px;\n",
              "      padding: 0 0 0 0;\n",
              "      width: 32px;\n",
              "    }\n",
              "\n",
              "    .colab-df-convert:hover {\n",
              "      background-color: #E2EBFA;\n",
              "      box-shadow: 0px 1px 2px rgba(60, 64, 67, 0.3), 0px 1px 3px 1px rgba(60, 64, 67, 0.15);\n",
              "      fill: #174EA6;\n",
              "    }\n",
              "\n",
              "    [theme=dark] .colab-df-convert {\n",
              "      background-color: #3B4455;\n",
              "      fill: #D2E3FC;\n",
              "    }\n",
              "\n",
              "    [theme=dark] .colab-df-convert:hover {\n",
              "      background-color: #434B5C;\n",
              "      box-shadow: 0px 1px 3px 1px rgba(0, 0, 0, 0.15);\n",
              "      filter: drop-shadow(0px 1px 2px rgba(0, 0, 0, 0.3));\n",
              "      fill: #FFFFFF;\n",
              "    }\n",
              "  </style>\n",
              "\n",
              "      <script>\n",
              "        const buttonEl =\n",
              "          document.querySelector('#df-7028cfac-36ed-430c-b662-76ebaaaadf0a button.colab-df-convert');\n",
              "        buttonEl.style.display =\n",
              "          google.colab.kernel.accessAllowed ? 'block' : 'none';\n",
              "\n",
              "        async function convertToInteractive(key) {\n",
              "          const element = document.querySelector('#df-7028cfac-36ed-430c-b662-76ebaaaadf0a');\n",
              "          const dataTable =\n",
              "            await google.colab.kernel.invokeFunction('convertToInteractive',\n",
              "                                                     [key], {});\n",
              "          if (!dataTable) return;\n",
              "\n",
              "          const docLinkHtml = 'Like what you see? Visit the ' +\n",
              "            '<a target=\"_blank\" href=https://colab.research.google.com/notebooks/data_table.ipynb>data table notebook</a>'\n",
              "            + ' to learn more about interactive tables.';\n",
              "          element.innerHTML = '';\n",
              "          dataTable['output_type'] = 'display_data';\n",
              "          await google.colab.output.renderOutput(dataTable, element);\n",
              "          const docLink = document.createElement('div');\n",
              "          docLink.innerHTML = docLinkHtml;\n",
              "          element.appendChild(docLink);\n",
              "        }\n",
              "      </script>\n",
              "    </div>\n",
              "  </div>\n",
              "  "
            ]
          },
          "metadata": {},
          "execution_count": 4
        }
      ]
    },
    {
      "cell_type": "code",
      "source": [
        "data.isnull().sum()"
      ],
      "metadata": {
        "colab": {
          "base_uri": "https://localhost:8080/"
        },
        "id": "ZHUWV_XC5Z8Z",
        "outputId": "75945358-0678-4d90-e51d-f8f1935357cd"
      },
      "execution_count": 6,
      "outputs": [
        {
          "output_type": "execute_result",
          "data": {
            "text/plain": [
              "crim       0\n",
              "zn         0\n",
              "indus      0\n",
              "chas       0\n",
              "nox        0\n",
              "rm         0\n",
              "age        0\n",
              "dis        0\n",
              "rad        0\n",
              "tax        0\n",
              "ptratio    0\n",
              "b          0\n",
              "lstat      0\n",
              "medv       0\n",
              "dtype: int64"
            ]
          },
          "metadata": {},
          "execution_count": 6
        }
      ]
    },
    {
      "cell_type": "code",
      "source": [
        "X=data.drop('medv',axis=1).values\n",
        "Y=data['medv'].values\n",
        "X"
      ],
      "metadata": {
        "colab": {
          "base_uri": "https://localhost:8080/"
        },
        "id": "pzxGrDoN5iLw",
        "outputId": "5ecc39bb-bed0-4c5b-a5fa-778b987d0dc3"
      },
      "execution_count": 9,
      "outputs": [
        {
          "output_type": "execute_result",
          "data": {
            "text/plain": [
              "array([[6.3200e-03, 1.8000e+01, 2.3100e+00, ..., 1.5300e+01, 3.9690e+02,\n",
              "        4.9800e+00],\n",
              "       [2.7310e-02, 0.0000e+00, 7.0700e+00, ..., 1.7800e+01, 3.9690e+02,\n",
              "        9.1400e+00],\n",
              "       [2.7290e-02, 0.0000e+00, 7.0700e+00, ..., 1.7800e+01, 3.9283e+02,\n",
              "        4.0300e+00],\n",
              "       ...,\n",
              "       [6.0760e-02, 0.0000e+00, 1.1930e+01, ..., 2.1000e+01, 3.9690e+02,\n",
              "        5.6400e+00],\n",
              "       [1.0959e-01, 0.0000e+00, 1.1930e+01, ..., 2.1000e+01, 3.9345e+02,\n",
              "        6.4800e+00],\n",
              "       [4.7410e-02, 0.0000e+00, 1.1930e+01, ..., 2.1000e+01, 3.9690e+02,\n",
              "        7.8800e+00]])"
            ]
          },
          "metadata": {},
          "execution_count": 9
        }
      ]
    },
    {
      "cell_type": "code",
      "source": [
        "X_rooms=X[:,5]"
      ],
      "metadata": {
        "id": "sx38FAM_6_ge"
      },
      "execution_count": 11,
      "outputs": []
    },
    {
      "cell_type": "code",
      "source": [
        "X_rooms=X_rooms.reshape(-1,1)\n",
        "Y=Y.reshape(-1,1)\n",
        "Y.shape"
      ],
      "metadata": {
        "colab": {
          "base_uri": "https://localhost:8080/"
        },
        "id": "2h_8pmLf-FCG",
        "outputId": "680b7f7a-ca16-4cec-ebc8-dcdd84ab47e1"
      },
      "execution_count": 17,
      "outputs": [
        {
          "output_type": "execute_result",
          "data": {
            "text/plain": [
              "(506, 1)"
            ]
          },
          "metadata": {},
          "execution_count": 17
        }
      ]
    },
    {
      "cell_type": "code",
      "source": [
        "X_rooms.shape\n",
        "Y.shape"
      ],
      "metadata": {
        "colab": {
          "base_uri": "https://localhost:8080/"
        },
        "id": "pyf7M1Qv9sS-",
        "outputId": "fd3cf4a5-841e-4f45-f503-3aa5f422f112"
      },
      "execution_count": 18,
      "outputs": [
        {
          "output_type": "execute_result",
          "data": {
            "text/plain": [
              "(506, 1)"
            ]
          },
          "metadata": {},
          "execution_count": 18
        }
      ]
    },
    {
      "cell_type": "code",
      "source": [
        "plt.scatter(X_rooms, Y)\n",
        "plt.show()"
      ],
      "metadata": {
        "colab": {
          "base_uri": "https://localhost:8080/",
          "height": 265
        },
        "id": "iiaFmlM--knQ",
        "outputId": "72ce8970-e643-4b44-e35b-f0b1b6780852"
      },
      "execution_count": 20,
      "outputs": [
        {
          "output_type": "display_data",
          "data": {
            "text/plain": [
              "<Figure size 432x288 with 1 Axes>"
            ],
            "image/png": "[encoded data removed]"
          },
          "metadata": {
            "needs_background": "light"
          }
        }
      ]
    },
    {
      "cell_type": "code",
      "source": [
        "from sklearn.linear_model import LinearRegression\n",
        "from sklearn.model_selection import train_test_split\n",
        "X_train, X_test, y_train, y_test = train_test_split(X_rooms,Y, test_size=0.20,random_state=101)"
      ],
      "metadata": {
        "colab": {
          "base_uri": "https://localhost:8080/"
        },
        "id": "3po6-sMu-s1b",
        "outputId": "ebb71ed8-1749-4ff3-8a1f-e26789e71ca1"
      },
      "execution_count": 26,
      "outputs": [
        {
          "output_type": "execute_result",
          "data": {
            "text/plain": [
              "array([[6.315],\n",
              "       [6.065],\n",
              "       [6.229],\n",
              "       [6.02 ],\n",
              "       [6.426],\n",
              "       [7.249],\n",
              "       [8.266],\n",
              "       [6.816],\n",
              "       [6.023],\n",
              "       [8.247],\n",
              "       [6.211],\n",
              "       [5.841],\n",
              "       [7.241],\n",
              "       [6.405],\n",
              "       [6.345],\n",
              "       [6.604],\n",
              "       [6.319],\n",
              "       [6.162],\n",
              "       [6.749],\n",
              "       [5.705],\n",
              "       [5.876],\n",
              "       [6.758],\n",
              "       [6.383],\n",
              "       [6.242],\n",
              "       [6.202],\n",
              "       [4.88 ],\n",
              "       [5.272],\n",
              "       [5.998],\n",
              "       [6.122],\n",
              "       [7.185],\n",
              "       [6.115],\n",
              "       [5.926],\n",
              "       [6.98 ],\n",
              "       [6.101],\n",
              "       [6.631],\n",
              "       [6.897],\n",
              "       [7.686],\n",
              "       [6.041],\n",
              "       [6.629],\n",
              "       [7.61 ],\n",
              "       [6.98 ],\n",
              "       [5.822],\n",
              "       [6.438],\n",
              "       [5.834],\n",
              "       [5.949],\n",
              "       [6.375],\n",
              "       [5.92 ],\n",
              "       [6.482],\n",
              "       [5.99 ],\n",
              "       [6.051],\n",
              "       [8.034],\n",
              "       [7.016],\n",
              "       [6.312],\n",
              "       [6.015],\n",
              "       [6.095],\n",
              "       [5.617],\n",
              "       [7.393],\n",
              "       [6.415],\n",
              "       [6.229],\n",
              "       [6.211],\n",
              "       [8.704],\n",
              "       [6.939],\n",
              "       [6.565],\n",
              "       [6.004],\n",
              "       [6.004],\n",
              "       [6.86 ],\n",
              "       [6.251],\n",
              "       [6.459],\n",
              "       [6.112],\n",
              "       [6.968],\n",
              "       [7.52 ],\n",
              "       [5.935],\n",
              "       [4.628],\n",
              "       [6.348],\n",
              "       [6.77 ],\n",
              "       [6.833],\n",
              "       [6.678],\n",
              "       [6.431],\n",
              "       [5.888],\n",
              "       [6.037],\n",
              "       [6.12 ],\n",
              "       [8.297],\n",
              "       [6.402],\n",
              "       [7.47 ],\n",
              "       [5.951],\n",
              "       [6.728],\n",
              "       [5.682],\n",
              "       [5.709],\n",
              "       [6.417],\n",
              "       [6.826],\n",
              "       [5.186],\n",
              "       [5.913],\n",
              "       [6.852],\n",
              "       [6.417],\n",
              "       [7.313],\n",
              "       [5.713],\n",
              "       [6.232],\n",
              "       [6.25 ],\n",
              "       [5.879],\n",
              "       [5.877],\n",
              "       [6.538],\n",
              "       [6.144],\n",
              "       [5.79 ],\n",
              "       [6.436],\n",
              "       [5.404],\n",
              "       [5.741],\n",
              "       [6.874],\n",
              "       [6.411],\n",
              "       [4.973],\n",
              "       [5.757],\n",
              "       [6.879],\n",
              "       [6.649],\n",
              "       [6.437],\n",
              "       [6.405],\n",
              "       [7.42 ],\n",
              "       [5.782],\n",
              "       [6.683],\n",
              "       [5.344],\n",
              "       [3.863],\n",
              "       [4.519],\n",
              "       [6.674],\n",
              "       [6.434],\n",
              "       [5.56 ],\n",
              "       [6.066],\n",
              "       [5.96 ],\n",
              "       [6.393],\n",
              "       [5.88 ],\n",
              "       [6.406],\n",
              "       [5.701],\n",
              "       [6.635],\n",
              "       [6.273],\n",
              "       [5.414],\n",
              "       [6.326],\n",
              "       [6.209],\n",
              "       [5.036],\n",
              "       [5.856],\n",
              "       [6.24 ],\n",
              "       [4.97 ],\n",
              "       [6.812],\n",
              "       [6.245],\n",
              "       [5.794],\n",
              "       [5.57 ],\n",
              "       [5.731],\n",
              "       [6.484],\n",
              "       [5.693],\n",
              "       [6.266],\n",
              "       [7.802],\n",
              "       [5.869],\n",
              "       [6.335],\n",
              "       [6.152],\n",
              "       [6.167],\n",
              "       [6.556],\n",
              "       [6.341],\n",
              "       [6.842],\n",
              "       [6.031],\n",
              "       [6.226],\n",
              "       [7.203],\n",
              "       [5.898],\n",
              "       [5.983],\n",
              "       [7.155],\n",
              "       [6.014],\n",
              "       [5.976],\n",
              "       [6.127],\n",
              "       [5.987],\n",
              "       [6.63 ],\n",
              "       [6.495],\n",
              "       [6.51 ],\n",
              "       [6.315],\n",
              "       [6.474],\n",
              "       [6.358],\n",
              "       [5.572],\n",
              "       [5.928],\n",
              "       [5.933],\n",
              "       [5.85 ],\n",
              "       [6.096],\n",
              "       [6.421],\n",
              "       [6.382],\n",
              "       [6.162],\n",
              "       [6.781],\n",
              "       [6.122],\n",
              "       [4.138],\n",
              "       [5.52 ],\n",
              "       [6.794],\n",
              "       [5.569],\n",
              "       [5.952],\n",
              "       [5.599],\n",
              "       [6.513],\n",
              "       [5.713],\n",
              "       [6.185],\n",
              "       [5.707],\n",
              "       [5.454],\n",
              "       [6.164],\n",
              "       [6.064],\n",
              "       [5.   ],\n",
              "       [5.905],\n",
              "       [5.837],\n",
              "       [5.277],\n",
              "       [6.142],\n",
              "       [6.169],\n",
              "       [6.012],\n",
              "       [6.316],\n",
              "       [7.007],\n",
              "       [5.963],\n",
              "       [6.727],\n",
              "       [7.333],\n",
              "       [6.516],\n",
              "       [6.8  ],\n",
              "       [6.13 ],\n",
              "       [5.888],\n",
              "       [8.337],\n",
              "       [5.787],\n",
              "       [6.003],\n",
              "       [5.813],\n",
              "       [5.404],\n",
              "       [6.153],\n",
              "       [4.906],\n",
              "       [5.961],\n",
              "       [6.163],\n",
              "       [6.951],\n",
              "       [5.983],\n",
              "       [6.389],\n",
              "       [4.903],\n",
              "       [6.976],\n",
              "       [5.427],\n",
              "       [6.027],\n",
              "       [5.856],\n",
              "       [6.849],\n",
              "       [5.628],\n",
              "       [5.966],\n",
              "       [7.287],\n",
              "       [5.594],\n",
              "       [5.874],\n",
              "       [5.637],\n",
              "       [7.041],\n",
              "       [5.878],\n",
              "       [5.663],\n",
              "       [5.986],\n",
              "       [6.006],\n",
              "       [7.929],\n",
              "       [6.63 ],\n",
              "       [8.069],\n",
              "       [6.59 ],\n",
              "       [6.373],\n",
              "       [5.762],\n",
              "       [5.972],\n",
              "       [6.49 ],\n",
              "       [6.794],\n",
              "       [5.747],\n",
              "       [5.093],\n",
              "       [7.765],\n",
              "       [7.82 ],\n",
              "       [8.259],\n",
              "       [6.511],\n",
              "       [6.782],\n",
              "       [7.061],\n",
              "       [5.403],\n",
              "       [5.604],\n",
              "       [6.223],\n",
              "       [6.127],\n",
              "       [6.14 ],\n",
              "       [6.302],\n",
              "       [6.193],\n",
              "       [6.642],\n",
              "       [6.616],\n",
              "       [6.114],\n",
              "       [6.047],\n",
              "       [5.648],\n",
              "       [6.975],\n",
              "       [6.212],\n",
              "       [6.249],\n",
              "       [6.108],\n",
              "       [6.086],\n",
              "       [5.813],\n",
              "       [5.965],\n",
              "       [5.597],\n",
              "       [6.453],\n",
              "       [6.38 ],\n",
              "       [6.326],\n",
              "       [5.786],\n",
              "       [6.059],\n",
              "       [8.04 ],\n",
              "       [5.783],\n",
              "       [8.375],\n",
              "       [5.593],\n",
              "       [6.395],\n",
              "       [5.961],\n",
              "       [4.963],\n",
              "       [5.871],\n",
              "       [6.103],\n",
              "       [8.398],\n",
              "       [5.87 ],\n",
              "       [5.349],\n",
              "       [7.107],\n",
              "       [6.487],\n",
              "       [6.096],\n",
              "       [6.982],\n",
              "       [5.968],\n",
              "       [6.75 ],\n",
              "       [6.998],\n",
              "       [6.495],\n",
              "       [6.092],\n",
              "       [6.297],\n",
              "       [6.471],\n",
              "       [6.442],\n",
              "       [6.701],\n",
              "       [6.145],\n",
              "       [5.854],\n",
              "       [4.652],\n",
              "       [6.416],\n",
              "       [6.454],\n",
              "       [5.412],\n",
              "       [6.552],\n",
              "       [6.03 ],\n",
              "       [5.859],\n",
              "       [6.209],\n",
              "       [7.645],\n",
              "       [6.38 ],\n",
              "       [6.54 ],\n",
              "       [6.081],\n",
              "       [6.657],\n",
              "       [7.267],\n",
              "       [6.219],\n",
              "       [6.377],\n",
              "       [5.713],\n",
              "       [6.824],\n",
              "       [6.167],\n",
              "       [6.739],\n",
              "       [6.968],\n",
              "       [5.39 ],\n",
              "       [5.012],\n",
              "       [6.728],\n",
              "       [7.853],\n",
              "       [6.433],\n",
              "       [7.691],\n",
              "       [6.174],\n",
              "       [5.362],\n",
              "       [6.176],\n",
              "       [6.575],\n",
              "       [6.871],\n",
              "       [5.852],\n",
              "       [6.417],\n",
              "       [6.083],\n",
              "       [6.404],\n",
              "       [6.655],\n",
              "       [6.333],\n",
              "       [6.481],\n",
              "       [6.009],\n",
              "       [6.137],\n",
              "       [5.818],\n",
              "       [6.461],\n",
              "       [5.926],\n",
              "       [6.172],\n",
              "       [6.113],\n",
              "       [7.088],\n",
              "       [7.416],\n",
              "       [5.854],\n",
              "       [6.456],\n",
              "       [7.206],\n",
              "       [6.606],\n",
              "       [5.936],\n",
              "       [5.851],\n",
              "       [4.368],\n",
              "       [6.696],\n",
              "       [6.127],\n",
              "       [6.618],\n",
              "       [6.279],\n",
              "       [5.887],\n",
              "       [5.613],\n",
              "       [6.854],\n",
              "       [6.718],\n",
              "       [5.868],\n",
              "       [6.069],\n",
              "       [5.957],\n",
              "       [5.927],\n",
              "       [6.185],\n",
              "       [5.155],\n",
              "       [6.216],\n",
              "       [5.942],\n",
              "       [6.715],\n",
              "       [5.985],\n",
              "       [5.602],\n",
              "       [6.019],\n",
              "       [5.304],\n",
              "       [6.405],\n",
              "       [6.43 ],\n",
              "       [6.195],\n",
              "       [7.178],\n",
              "       [6.951],\n",
              "       [5.914],\n",
              "       [5.605],\n",
              "       [5.565],\n",
              "       [6.593],\n",
              "       [6.372],\n",
              "       [7.024],\n",
              "       [6.376],\n",
              "       [6.193],\n",
              "       [5.67 ],\n",
              "       [6.286],\n",
              "       [6.121],\n",
              "       [6.762],\n",
              "       [6.312],\n",
              "       [5.895],\n",
              "       [6.009],\n",
              "       [6.579]])"
            ]
          },
          "metadata": {},
          "execution_count": 26
        }
      ]
    },
    {
      "cell_type": "code",
      "source": [
        "reg = LinearRegression()\n",
        "reg.fit(X_train,y_train)"
      ],
      "metadata": {
        "colab": {
          "base_uri": "https://localhost:8080/",
          "height": 75
        },
        "id": "1boju4krDr6e",
        "outputId": "9ebd80ba-b8cd-4609-eb74-075642bcd312"
      },
      "execution_count": 28,
      "outputs": [
        {
          "output_type": "execute_result",
          "data": {
            "text/plain": [
              "LinearRegression()"
            ],
            "text/html": [
              "<style>#sk-container-id-2 {color: black;background-color: white;}#sk-container-id-2 pre{padding: 0;}#sk-container-id-2 div.sk-toggleable {background-color: white;}#sk-container-id-2 label.sk-toggleable__label {cursor: pointer;display: block;width: 100%;margin-bottom: 0;padding: 0.3em;box-sizing: border-box;text-align: center;}#sk-container-id-2 label.sk-toggleable__label-arrow:before {content: \"▸\";float: left;margin-right: 0.25em;color: #696969;}#sk-container-id-2 label.sk-toggleable__label-arrow:hover:before {color: black;}#sk-container-id-2 div.sk-estimator:hover label.sk-toggleable__label-arrow:before {color: black;}#sk-container-id-2 div.sk-toggleable__content {max-height: 0;max-width: 0;overflow: hidden;text-align: left;background-color: #f0f8ff;}#sk-container-id-2 div.sk-toggleable__content pre {margin: 0.2em;color: black;border-radius: 0.25em;background-color: #f0f8ff;}#sk-container-id-2 input.sk-toggleable__control:checked~div.sk-toggleable__content {max-height: 200px;max-width: 100%;overflow: auto;}#sk-container-id-2 input.sk-toggleable__control:checked~label.sk-toggleable__label-arrow:before {content: \"▾\";}#sk-container-id-2 div.sk-estimator input.sk-toggleable__control:checked~label.sk-toggleable__label {background-color: #d4ebff;}#sk-container-id-2 div.sk-label input.sk-toggleable__control:checked~label.sk-toggleable__label {background-color: #d4ebff;}#sk-container-id-2 input.sk-hidden--visually {border: 0;clip: rect(1px 1px 1px 1px);clip: rect(1px, 1px, 1px, 1px);height: 1px;margin: -1px;overflow: hidden;padding: 0;position: absolute;width: 1px;}#sk-container-id-2 div.sk-estimator {font-family: monospace;background-color: #f0f8ff;border: 1px dotted black;border-radius: 0.25em;box-sizing: border-box;margin-bottom: 0.5em;}#sk-container-id-2 div.sk-estimator:hover {background-color: #d4ebff;}#sk-container-id-2 div.sk-parallel-item::after {content: \"\";width: 100%;border-bottom: 1px solid gray;flex-grow: 1;}#sk-container-id-2 div.sk-label:hover label.sk-toggleable__label {background-color: #d4ebff;}#sk-container-id-2 div.sk-serial::before {content: \"\";position: absolute;border-left: 1px solid gray;box-sizing: border-box;top: 0;bottom: 0;left: 50%;z-index: 0;}#sk-container-id-2 div.sk-serial {display: flex;flex-direction: column;align-items: center;background-color: white;padding-right: 0.2em;padding-left: 0.2em;position: relative;}#sk-container-id-2 div.sk-item {position: relative;z-index: 1;}#sk-container-id-2 div.sk-parallel {display: flex;align-items: stretch;justify-content: center;background-color: white;position: relative;}#sk-container-id-2 div.sk-item::before, #sk-container-id-2 div.sk-parallel-item::before {content: \"\";position: absolute;border-left: 1px solid gray;box-sizing: border-box;top: 0;bottom: 0;left: 50%;z-index: -1;}#sk-container-id-2 div.sk-parallel-item {display: flex;flex-direction: column;z-index: 1;position: relative;background-color: white;}#sk-container-id-2 div.sk-parallel-item:first-child::after {align-self: flex-end;width: 50%;}#sk-container-id-2 div.sk-parallel-item:last-child::after {align-self: flex-start;width: 50%;}#sk-container-id-2 div.sk-parallel-item:only-child::after {width: 0;}#sk-container-id-2 div.sk-dashed-wrapped {border: 1px dashed gray;margin: 0 0.4em 0.5em 0.4em;box-sizing: border-box;padding-bottom: 0.4em;background-color: white;}#sk-container-id-2 div.sk-label label {font-family: monospace;font-weight: bold;display: inline-block;line-height: 1.2em;}#sk-container-id-2 div.sk-label-container {text-align: center;}#sk-container-id-2 div.sk-container {/* jupyter's `normalize.less` sets `[hidden] { display: none; }` but bootstrap.min.css set `[hidden] { display: none !important; }` so we also need the `!important` here to be able to override the default hidden behavior on the sphinx rendered scikit-learn.org. See: https://github.com/scikit-learn/scikit-learn/issues/21755 */display: inline-block !important;position: relative;}#sk-container-id-2 div.sk-text-repr-fallback {display: none;}</style><div id=\"sk-container-id-2\" class=\"sk-top-container\"><div class=\"sk-text-repr-fallback\"><pre>LinearRegression()</pre><b>In a Jupyter environment, please rerun this cell to show the HTML representation or trust the notebook. <br />On GitHub, the HTML representation is unable to render, please try loading this page with nbviewer.org.</b></div><div class=\"sk-container\" hidden><div class=\"sk-item\"><div class=\"sk-estimator sk-toggleable\"><input class=\"sk-toggleable__control sk-hidden--visually\" id=\"sk-estimator-id-2\" type=\"checkbox\" checked><label for=\"sk-estimator-id-2\" class=\"sk-toggleable__label sk-toggleable__label-arrow\">LinearRegression</label><div class=\"sk-toggleable__content\"><pre>LinearRegression()</pre></div></div></div></div></div>"
            ]
          },
          "metadata": {},
          "execution_count": 28
        }
      ]
    },
    {
      "cell_type": "code",
      "source": [
        "y_predict = reg.predict(X_train)"
      ],
      "metadata": {
        "id": "UBcZCN2UD7xY"
      },
      "execution_count": 29,
      "outputs": []
    },
    {
      "cell_type": "code",
      "source": [
        "\n",
        "from sklearn.metrics import mean_absolute_error,r2_score,mean_squared_error\n",
        "MAE = mean_absolute_error(y_train,y_predict)\n",
        "MSE = mean_squared_error(y_train,y_predict)\n",
        "RMSE = np.sqrt(mean_squared_error(y_train,y_predict))\n",
        "R2_SCORE = r2_score(y_train,y_predict)\n",
        "print(\"MAE :\",MAE)\n",
        "print(\"MSE :\",MSE)\n",
        "print(\"RMSE :\",RMSE)\n",
        "print(\"R2_SCORE :\",R2_SCORE)"
      ],
      "metadata": {
        "colab": {
          "base_uri": "https://localhost:8080/"
        },
        "id": "ZRKXtVm6D_Uh",
        "outputId": "64a14c46-db3c-40f1-8593-3d6bd75fcd21"
      },
      "execution_count": 30,
      "outputs": [
        {
          "output_type": "stream",
          "name": "stdout",
          "text": [
            "MAE : 4.2274300161917875\n",
            "MSE : 39.486393420528955\n",
            "RMSE : 6.283819970410431\n",
            "R2_SCORE : 0.4886339821566138\n"
          ]
        }
      ]
    },
    {
      "cell_type": "code",
      "source": [
        "y_predict_test = reg.predict(X_test)\n",
        "MAE = mean_absolute_error(y_test,y_predict_test)\n",
        "MSE = mean_squared_error(y_test,y_predict_test)\n",
        "RMSE = np.sqrt(mean_squared_error(y_test,y_predict_test))\n",
        "R2_SCORE = r2_score(y_test,y_predict_test)\n",
        "print(\"MAE :\",MAE)\n",
        "print(\"MSE :\",MSE)\n",
        "print(\"RMSE :\",RMSE)\n",
        "print(\"R2_SCORE :\",R2_SCORE)"
      ],
      "metadata": {
        "colab": {
          "base_uri": "https://localhost:8080/"
        },
        "id": "O76FWLhCEA0x",
        "outputId": "6624a9ac-b95c-45dd-e2ed-99a4cf3814dc"
      },
      "execution_count": 31,
      "outputs": [
        {
          "output_type": "stream",
          "name": "stdout",
          "text": [
            "MAE : 5.335298713755075\n",
            "MSE : 59.95013625764062\n",
            "RMSE : 7.742747332674664\n",
            "R2_SCORE : 0.46564313381982303\n"
          ]
        }
      ]
    },
    {
      "cell_type": "code",
      "source": [
        "plt.scatter(X_train,y_train)\n",
        "plt.plot(X_train,y_predict,color='red',linewidth=5)"
      ],
      "metadata": {
        "colab": {
          "base_uri": "https://localhost:8080/",
          "height": 283
        },
        "id": "m9BQTwcYELIL",
        "outputId": "50e95fed-41a8-4d69-b84c-00d15fb489dd"
      },
      "execution_count": 33,
      "outputs": [
        {
          "output_type": "execute_result",
          "data": {
            "text/plain": [
              "[<matplotlib.lines.Line2D at 0x7f755a37e730>]"
            ]
          },
          "metadata": {},
          "execution_count": 33
        },
        {
          "output_type": "display_data",
          "data": {
            "text/plain": [
              "<Figure size 432x288 with 1 Axes>"
            ],
            "image/png": "[encoded data removed]"
          },
          "metadata": {
            "needs_background": "light"
          }
        }
      ]
    }
  ]
}