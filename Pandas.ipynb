{
  "nbformat": 4,
  "nbformat_minor": 0,
  "metadata": {
    "colab": {
      "provenance": [],
      "authorship_tag": "ABX9TyOXZg0g+1UxSAh6NmZ91uLY",
      "include_colab_link": true
    },
    "kernelspec": {
      "name": "python3",
      "display_name": "Python 3"
    },
    "language_info": {
      "name": "python"
    }
  },
  "cells": [
    {
      "cell_type": "markdown",
      "metadata": {
        "id": "view-in-github",
        "colab_type": "text"
      },
      "source": [
        "<a href=\"https://colab.research.google.com/github/Chandusiddartha/FML/blob/main/Pandas.ipynb\" target=\"_parent\"><img src=\"https://colab.research.google.com/assets/colab-badge.svg\" alt=\"Open In Colab\"/></a>"
      ]
    },
    {
      "cell_type": "code",
      "execution_count": null,
      "metadata": {
        "id": "TkAxqiJmGNOq"
      },
      "outputs": [],
      "source": [
        "import pandas as pd\n",
        "import numpy as np"
      ]
    },
    {
      "cell_type": "code",
      "source": [
        "#To check pandas version \n",
        "pd.__version__"
      ],
      "metadata": {
        "colab": {
          "base_uri": "https://localhost:8080/",
          "height": 35
        },
        "id": "Fry0FYMpGUKe",
        "outputId": "a032475b-80a5-4a4a-eba4-c8aae79084c2"
      },
      "execution_count": null,
      "outputs": [
        {
          "output_type": "execute_result",
          "data": {
            "text/plain": [
              "'1.3.5'"
            ],
            "application/vnd.google.colaboratory.intrinsic+json": {
              "type": "string"
            }
          },
          "metadata": {},
          "execution_count": 2
        }
      ]
    },
    {
      "cell_type": "code",
      "source": [
        "#Two important data structures of pandas are series and Dataframes.\n",
        "\n",
        "#Series is like a column in a table it can store any type of data\n",
        "arr=np.array([1,2,3])\n",
        "n=pd.Series(arr)\n",
        "n"
      ],
      "metadata": {
        "colab": {
          "base_uri": "https://localhost:8080/"
        },
        "id": "Nnhg3SzzGmc7",
        "outputId": "2fa7735e-ca17-4cec-c289-d6e091e8325a"
      },
      "execution_count": null,
      "outputs": [
        {
          "output_type": "execute_result",
          "data": {
            "text/plain": [
              "0    1\n",
              "1    2\n",
              "2    3\n",
              "dtype: int64"
            ]
          },
          "metadata": {},
          "execution_count": 11
        }
      ]
    },
    {
      "cell_type": "code",
      "source": [
        "#Each row is given a number by default with n. The values of the series are accessed using this column.\n",
        "\n",
        "#We can explicitly give the column names also by using index argument\n",
        "\n",
        "arr=np.array([\"siddhartha\",\"mahesh\",\"dinesh\",\"akhil\"])\n",
        "df=pd.Series(arr,index=[26,28,64,14])\n",
        "df[26]"
      ],
      "metadata": {
        "id": "zaoa0ZfyHbsV",
        "colab": {
          "base_uri": "https://localhost:8080/",
          "height": 35
        },
        "outputId": "4be4f7e9-3f4a-459b-d5fd-6dce2690d901"
      },
      "execution_count": null,
      "outputs": [
        {
          "output_type": "execute_result",
          "data": {
            "text/plain": [
              "'siddhartha'"
            ],
            "application/vnd.google.colaboratory.intrinsic+json": {
              "type": "string"
            }
          },
          "metadata": {},
          "execution_count": 10
        }
      ]
    },
    {
      "cell_type": "code",
      "source": [
        "#We can create series using index and values to give index explicityl\n",
        "#     or\n",
        "#We can use key value pairs in which keys are index values and values as original values in the array\n",
        "dt={26:\"siddhartha\",14:\"Akhil\",28:\"mahesh\"}\n",
        "df=pd.Series(dt)\n",
        "df"
      ],
      "metadata": {
        "colab": {
          "base_uri": "https://localhost:8080/"
        },
        "id": "m8Jrv6Q9KBeu",
        "outputId": "26fcc95a-a975-43b9-a486-d6788da344fc"
      },
      "execution_count": null,
      "outputs": [
        {
          "output_type": "execute_result",
          "data": {
            "text/plain": [
              "26    siddhartha\n",
              "14         Akhil\n",
              "28        mahesh\n",
              "dtype: object"
            ]
          },
          "metadata": {},
          "execution_count": 13
        }
      ]
    },
    {
      "cell_type": "code",
      "source": [
        "# if we want to select only certain columns to be created as table then we can specify the concerned key names in the index attribute\n",
        "df=pd.Series(dt,index=[26,14])\n",
        "df"
      ],
      "metadata": {
        "colab": {
          "base_uri": "https://localhost:8080/"
        },
        "id": "rrPy0vk8K1fF",
        "outputId": "933c6cac-7745-41dd-8004-28fdcc8337e8"
      },
      "execution_count": null,
      "outputs": [
        {
          "output_type": "execute_result",
          "data": {
            "text/plain": [
              "26    siddhartha\n",
              "14         Akhil\n",
              "dtype: object"
            ]
          },
          "metadata": {},
          "execution_count": 14
        }
      ]
    },
    {
      "cell_type": "code",
      "source": [
        "#In real world problems all data sets contains multiple columns in form of tables\n",
        "#So we can't use Series in this. \n",
        "#We use another data structure known as DataFrame.\n",
        "arr={26:[\"siddhartha\",\"siddhu\",\"GoodBoy\"],14:[\"Akhil\",\"Bheem\",\"Waste\"],28:[\"mahesh\",\"mahi\",\"ntg\"]}\n",
        "df=pd.DataFrame(arr,index=[9,10,11])\n",
        "df"
      ],
      "metadata": {
        "colab": {
          "base_uri": "https://localhost:8080/",
          "height": 142
        },
        "id": "0RcOkreBLOqp",
        "outputId": "75ecd46a-6c43-4c9f-8f28-f190b57e633e"
      },
      "execution_count": null,
      "outputs": [
        {
          "output_type": "execute_result",
          "data": {
            "text/plain": [
              "            26     14      28\n",
              "9   siddhartha  Akhil  mahesh\n",
              "10      siddhu  Bheem    mahi\n",
              "11     GoodBoy  Waste     ntg"
            ],
            "text/html": [
              "\n",
              "  <div id=\"df-fe9134c8-5db2-4ad2-9b0e-10fb699d8d43\">\n",
              "    <div class=\"colab-df-container\">\n",
              "      <div>\n",
              "<style scoped>\n",
              "    .dataframe tbody tr th:only-of-type {\n",
              "        vertical-align: middle;\n",
              "    }\n",
              "\n",
              "    .dataframe tbody tr th {\n",
              "        vertical-align: top;\n",
              "    }\n",
              "\n",
              "    .dataframe thead th {\n",
              "        text-align: right;\n",
              "    }\n",
              "</style>\n",
              "<table border=\"1\" class=\"dataframe\">\n",
              "  <thead>\n",
              "    <tr style=\"text-align: right;\">\n",
              "      <th></th>\n",
              "      <th>26</th>\n",
              "      <th>14</th>\n",
              "      <th>28</th>\n",
              "    </tr>\n",
              "  </thead>\n",
              "  <tbody>\n",
              "    <tr>\n",
              "      <th>9</th>\n",
              "      <td>siddhartha</td>\n",
              "      <td>Akhil</td>\n",
              "      <td>mahesh</td>\n",
              "    </tr>\n",
              "    <tr>\n",
              "      <th>10</th>\n",
              "      <td>siddhu</td>\n",
              "      <td>Bheem</td>\n",
              "      <td>mahi</td>\n",
              "    </tr>\n",
              "    <tr>\n",
              "      <th>11</th>\n",
              "      <td>GoodBoy</td>\n",
              "      <td>Waste</td>\n",
              "      <td>ntg</td>\n",
              "    </tr>\n",
              "  </tbody>\n",
              "</table>\n",
              "</div>\n",
              "      <button class=\"colab-df-convert\" onclick=\"convertToInteractive('df-fe9134c8-5db2-4ad2-9b0e-10fb699d8d43')\"\n",
              "              title=\"Convert this dataframe to an interactive table.\"\n",
              "              style=\"display:none;\">\n",
              "        \n",
              "  <svg xmlns=\"http://www.w3.org/2000/svg\" height=\"24px\"viewBox=\"0 0 24 24\"\n",
              "       width=\"24px\">\n",
              "    <path d=\"M0 0h24v24H0V0z\" fill=\"none\"/>\n",
              "    <path d=\"M18.56 5.44l.94 2.06.94-2.06 2.06-.94-2.06-.94-.94-2.06-.94 2.06-2.06.94zm-11 1L8.5 8.5l.94-2.06 2.06-.94-2.06-.94L8.5 2.5l-.94 2.06-2.06.94zm10 10l.94 2.06.94-2.06 2.06-.94-2.06-.94-.94-2.06-.94 2.06-2.06.94z\"/><path d=\"M17.41 7.96l-1.37-1.37c-.4-.4-.92-.59-1.43-.59-.52 0-1.04.2-1.43.59L10.3 9.45l-7.72 7.72c-.78.78-.78 2.05 0 2.83L4 21.41c.39.39.9.59 1.41.59.51 0 1.02-.2 1.41-.59l7.78-7.78 2.81-2.81c.8-.78.8-2.07 0-2.86zM5.41 20L4 18.59l7.72-7.72 1.47 1.35L5.41 20z\"/>\n",
              "  </svg>\n",
              "      </button>\n",
              "      \n",
              "  <style>\n",
              "    .colab-df-container {\n",
              "      display:flex;\n",
              "      flex-wrap:wrap;\n",
              "      gap: 12px;\n",
              "    }\n",
              "\n",
              "    .colab-df-convert {\n",
              "      background-color: #E8F0FE;\n",
              "      border: none;\n",
              "      border-radius: 50%;\n",
              "      cursor: pointer;\n",
              "      display: none;\n",
              "      fill: #1967D2;\n",
              "      height: 32px;\n",
              "      padding: 0 0 0 0;\n",
              "      width: 32px;\n",
              "    }\n",
              "\n",
              "    .colab-df-convert:hover {\n",
              "      background-color: #E2EBFA;\n",
              "      box-shadow: 0px 1px 2px rgba(60, 64, 67, 0.3), 0px 1px 3px 1px rgba(60, 64, 67, 0.15);\n",
              "      fill: #174EA6;\n",
              "    }\n",
              "\n",
              "    [theme=dark] .colab-df-convert {\n",
              "      background-color: #3B4455;\n",
              "      fill: #D2E3FC;\n",
              "    }\n",
              "\n",
              "    [theme=dark] .colab-df-convert:hover {\n",
              "      background-color: #434B5C;\n",
              "      box-shadow: 0px 1px 3px 1px rgba(0, 0, 0, 0.15);\n",
              "      filter: drop-shadow(0px 1px 2px rgba(0, 0, 0, 0.3));\n",
              "      fill: #FFFFFF;\n",
              "    }\n",
              "  </style>\n",
              "\n",
              "      <script>\n",
              "        const buttonEl =\n",
              "          document.querySelector('#df-fe9134c8-5db2-4ad2-9b0e-10fb699d8d43 button.colab-df-convert');\n",
              "        buttonEl.style.display =\n",
              "          google.colab.kernel.accessAllowed ? 'block' : 'none';\n",
              "\n",
              "        async function convertToInteractive(key) {\n",
              "          const element = document.querySelector('#df-fe9134c8-5db2-4ad2-9b0e-10fb699d8d43');\n",
              "          const dataTable =\n",
              "            await google.colab.kernel.invokeFunction('convertToInteractive',\n",
              "                                                     [key], {});\n",
              "          if (!dataTable) return;\n",
              "\n",
              "          const docLinkHtml = 'Like what you see? Visit the ' +\n",
              "            '<a target=\"_blank\" href=https://colab.research.google.com/notebooks/data_table.ipynb>data table notebook</a>'\n",
              "            + ' to learn more about interactive tables.';\n",
              "          element.innerHTML = '';\n",
              "          dataTable['output_type'] = 'display_data';\n",
              "          await google.colab.output.renderOutput(dataTable, element);\n",
              "          const docLink = document.createElement('div');\n",
              "          docLink.innerHTML = docLinkHtml;\n",
              "          element.appendChild(docLink);\n",
              "        }\n",
              "      </script>\n",
              "    </div>\n",
              "  </div>\n",
              "  "
            ]
          },
          "metadata": {},
          "execution_count": 29
        }
      ]
    },
    {
      "cell_type": "code",
      "source": [
        "#We can access rows of a dataframe using \"loc\" attibute\n",
        "#The below returns a series for the row number default or by the labels using indices\n",
        "df.loc[9]"
      ],
      "metadata": {
        "colab": {
          "base_uri": "https://localhost:8080/"
        },
        "id": "twTTyH7nNgJo",
        "outputId": "c105968d-129e-4c21-9246-8cb270c2bd37"
      },
      "execution_count": null,
      "outputs": [
        {
          "output_type": "execute_result",
          "data": {
            "text/plain": [
              "26    siddhartha\n",
              "14         Akhil\n",
              "28        mahesh\n",
              "Name: 9, dtype: object"
            ]
          },
          "metadata": {},
          "execution_count": 31
        }
      ]
    },
    {
      "cell_type": "code",
      "source": [
        "# We can return a list of indices\n",
        "# Here the result is a dataframe\n",
        "df.loc[[9,10,11]]"
      ],
      "metadata": {
        "colab": {
          "base_uri": "https://localhost:8080/",
          "height": 142
        },
        "id": "tzGGM1FpRbSV",
        "outputId": "2140e324-093e-4d2c-d817-00510e5260e3"
      },
      "execution_count": null,
      "outputs": [
        {
          "output_type": "execute_result",
          "data": {
            "text/plain": [
              "            26     14      28\n",
              "9   siddhartha  Akhil  mahesh\n",
              "10      siddhu  Bheem    mahi\n",
              "11     GoodBoy  Waste     ntg"
            ],
            "text/html": [
              "\n",
              "  <div id=\"df-75c93a14-4041-4e59-8a09-a35298219d27\">\n",
              "    <div class=\"colab-df-container\">\n",
              "      <div>\n",
              "<style scoped>\n",
              "    .dataframe tbody tr th:only-of-type {\n",
              "        vertical-align: middle;\n",
              "    }\n",
              "\n",
              "    .dataframe tbody tr th {\n",
              "        vertical-align: top;\n",
              "    }\n",
              "\n",
              "    .dataframe thead th {\n",
              "        text-align: right;\n",
              "    }\n",
              "</style>\n",
              "<table border=\"1\" class=\"dataframe\">\n",
              "  <thead>\n",
              "    <tr style=\"text-align: right;\">\n",
              "      <th></th>\n",
              "      <th>26</th>\n",
              "      <th>14</th>\n",
              "      <th>28</th>\n",
              "    </tr>\n",
              "  </thead>\n",
              "  <tbody>\n",
              "    <tr>\n",
              "      <th>9</th>\n",
              "      <td>siddhartha</td>\n",
              "      <td>Akhil</td>\n",
              "      <td>mahesh</td>\n",
              "    </tr>\n",
              "    <tr>\n",
              "      <th>10</th>\n",
              "      <td>siddhu</td>\n",
              "      <td>Bheem</td>\n",
              "      <td>mahi</td>\n",
              "    </tr>\n",
              "    <tr>\n",
              "      <th>11</th>\n",
              "      <td>GoodBoy</td>\n",
              "      <td>Waste</td>\n",
              "      <td>ntg</td>\n",
              "    </tr>\n",
              "  </tbody>\n",
              "</table>\n",
              "</div>\n",
              "      <button class=\"colab-df-convert\" onclick=\"convertToInteractive('df-75c93a14-4041-4e59-8a09-a35298219d27')\"\n",
              "              title=\"Convert this dataframe to an interactive table.\"\n",
              "              style=\"display:none;\">\n",
              "        \n",
              "  <svg xmlns=\"http://www.w3.org/2000/svg\" height=\"24px\"viewBox=\"0 0 24 24\"\n",
              "       width=\"24px\">\n",
              "    <path d=\"M0 0h24v24H0V0z\" fill=\"none\"/>\n",
              "    <path d=\"M18.56 5.44l.94 2.06.94-2.06 2.06-.94-2.06-.94-.94-2.06-.94 2.06-2.06.94zm-11 1L8.5 8.5l.94-2.06 2.06-.94-2.06-.94L8.5 2.5l-.94 2.06-2.06.94zm10 10l.94 2.06.94-2.06 2.06-.94-2.06-.94-.94-2.06-.94 2.06-2.06.94z\"/><path d=\"M17.41 7.96l-1.37-1.37c-.4-.4-.92-.59-1.43-.59-.52 0-1.04.2-1.43.59L10.3 9.45l-7.72 7.72c-.78.78-.78 2.05 0 2.83L4 21.41c.39.39.9.59 1.41.59.51 0 1.02-.2 1.41-.59l7.78-7.78 2.81-2.81c.8-.78.8-2.07 0-2.86zM5.41 20L4 18.59l7.72-7.72 1.47 1.35L5.41 20z\"/>\n",
              "  </svg>\n",
              "      </button>\n",
              "      \n",
              "  <style>\n",
              "    .colab-df-container {\n",
              "      display:flex;\n",
              "      flex-wrap:wrap;\n",
              "      gap: 12px;\n",
              "    }\n",
              "\n",
              "    .colab-df-convert {\n",
              "      background-color: #E8F0FE;\n",
              "      border: none;\n",
              "      border-radius: 50%;\n",
              "      cursor: pointer;\n",
              "      display: none;\n",
              "      fill: #1967D2;\n",
              "      height: 32px;\n",
              "      padding: 0 0 0 0;\n",
              "      width: 32px;\n",
              "    }\n",
              "\n",
              "    .colab-df-convert:hover {\n",
              "      background-color: #E2EBFA;\n",
              "      box-shadow: 0px 1px 2px rgba(60, 64, 67, 0.3), 0px 1px 3px 1px rgba(60, 64, 67, 0.15);\n",
              "      fill: #174EA6;\n",
              "    }\n",
              "\n",
              "    [theme=dark] .colab-df-convert {\n",
              "      background-color: #3B4455;\n",
              "      fill: #D2E3FC;\n",
              "    }\n",
              "\n",
              "    [theme=dark] .colab-df-convert:hover {\n",
              "      background-color: #434B5C;\n",
              "      box-shadow: 0px 1px 3px 1px rgba(0, 0, 0, 0.15);\n",
              "      filter: drop-shadow(0px 1px 2px rgba(0, 0, 0, 0.3));\n",
              "      fill: #FFFFFF;\n",
              "    }\n",
              "  </style>\n",
              "\n",
              "      <script>\n",
              "        const buttonEl =\n",
              "          document.querySelector('#df-75c93a14-4041-4e59-8a09-a35298219d27 button.colab-df-convert');\n",
              "        buttonEl.style.display =\n",
              "          google.colab.kernel.accessAllowed ? 'block' : 'none';\n",
              "\n",
              "        async function convertToInteractive(key) {\n",
              "          const element = document.querySelector('#df-75c93a14-4041-4e59-8a09-a35298219d27');\n",
              "          const dataTable =\n",
              "            await google.colab.kernel.invokeFunction('convertToInteractive',\n",
              "                                                     [key], {});\n",
              "          if (!dataTable) return;\n",
              "\n",
              "          const docLinkHtml = 'Like what you see? Visit the ' +\n",
              "            '<a target=\"_blank\" href=https://colab.research.google.com/notebooks/data_table.ipynb>data table notebook</a>'\n",
              "            + ' to learn more about interactive tables.';\n",
              "          element.innerHTML = '';\n",
              "          dataTable['output_type'] = 'display_data';\n",
              "          await google.colab.output.renderOutput(dataTable, element);\n",
              "          const docLink = document.createElement('div');\n",
              "          docLink.innerHTML = docLinkHtml;\n",
              "          element.appendChild(docLink);\n",
              "        }\n",
              "      </script>\n",
              "    </div>\n",
              "  </div>\n",
              "  "
            ]
          },
          "metadata": {},
          "execution_count": 35
        }
      ]
    },
    {
      "cell_type": "code",
      "source": [
        "#We can read a csv files using read_csv\n",
        "df=pd.read_csv('/cars.csv')\n",
        "df.to_string()"
      ],
      "metadata": {
        "colab": {
          "base_uri": "https://localhost:8080/",
          "height": 120
        },
        "id": "PnamaCcTResT",
        "outputId": "9b77cfc0-6daf-4c7f-8ea1-4b4913abaecc"
      },
      "execution_count": null,
      "outputs": [
        {
          "output_type": "execute_result",
          "data": {
            "text/plain": [
              "'     age  gender  miles   debt  income  sales\\n0     28       0     23      0    4099    620\\n1     26       0     27      0    2677   1792\\n2     30       1     58  41576    6215  27754\\n3     26       1     25  43172    7626  28256\\n4     20       1     17   6979    8071   4438\\n5     58       1     18      0    1262   2102\\n6     44       1     17    418    7017   8520\\n7     39       1     28      0    3282    500\\n8     44       0     24  48724    9980  22997\\n9     46       1     46  57827    8163  26517\\n10    34       1     23   2595    7908  14112\\n11    32       1     23  33119    7261  20956\\n12    25       0     18   3517    5069   7650\\n13    35       0     14   1543    1376   3197\\n14    19       0     22   9362    4218   4531\\n15    53       1     47   3596   11069  18005\\n16    57       0     34  58481    7054  22854\\n17    27       1     33   3410    6755  10278\\n18    37       1     11      0    2170    739\\n19    24       0     30   2822    3462   4271\\n20    44       1     17    247    3586   4733\\n21    48       0     10      0     188    971\\n22    40       1     15   7254    6472   6263\\n23    54       1     31  41258   11881  24677\\n24    34       0     32  43708   11081  22830\\n25    57       0     34   8045    6385   9913\\n26    58       0     29    263    4766   3598\\n27    26       0     10   1971    9754   5222\\n28    49       1     21  47277    6370  22450\\n29    55       1     25  59138   10739  24993\\n30    40       1     38  56500    6528  28607\\n31    54       1     28   9882    8616  16875\\n32    59       1     30    751    2457   3199\\n33    36       0     38  50167    6022  25394\\n34    46       0     16   4342    6673  11562\\n35    21       0     25   4133    4212   4376\\n36    33       1     17   7134    7025  11530\\n37    31       1     22      0    3957    780\\n38    24       0     11   5503    1685   2945\\n39    29       1     18    166    7104   7601\\n40    25       0     20   6114    1206  15044\\n41    22       1     10   2389    1517   2073\\n42    22       0     23   3899    1882   2869\\n43    22       1     26   3992    4777   1492\\n44    38       1     28   5110    2818   5927\\n45    21       0     15   7375    3614   3454\\n46    21       1     14   9592    1305   2282\\n47    44       0     46   8590   11663  17374\\n48    52       1     48  23918    6654  20341\\n49    37       0     27   8020    6983   7062\\n50    35       1     23  47753    6595  27677\\n51    28       0     34   9310    6936  12581\\n52    30       0     35   3001    5805  10780\\n53    30       1     16   5044   11404  15288\\n54    45       1     26     72    2906   3928\\n55    25       0     18   1123    6874   3852\\n56    30       1     36  22992    6540  18819\\n57    58       1     27      0    1558   1447\\n58    27       1     21   2398    5094  15573\\n59    38       1     33  53432    6162  25996\\n60    46       1     26   8549    6669  14202\\n61    41       0     31  58742   10717  24097\\n62    60       0     39  10293    8851  21708\\n63    27       0     26   6551    3587  14074\\n64    35       0     38  30534   11236  21608\\n65    31       0     18   1383    4294   3453\\n66    29       0     26   5397    5427   6376\\n67    29       1     42  16366   11629  20247\\n68    35       1     50  54167    9503  22842\\n69    25       1     15     73    7292   5018\\n70    50       1     18      0     740    648\\n71    33       0     17    596    1419   2454\\n72    50       0     88  53232    7854  27800\\n73    56       1     14     67    1997   2531\\n74    49       1     30      0       0   1205\\n75    43       0     23   5313    8598  16653\\n76    30       1     80  50583    8776  28822\\n77    25       1     21  55591    8252  24291\\n78    48       0     25   5844    5376  12748\\n79    36       0     22   2394    9269  15905\\n80    25       1     19   4307    1304   5489\\n81    28       1     50  52146    9773  26152\\n82    24       1     14    733    3758   4785\\n83    36       0     26   6900    5463   6465\\n84    35       1     29   1802    5406   6200\\n85    21       1     25   7475    9604   4923\\n86    59       1     89  51363    9491  29715\\n87    56       0     31  11100   11495  20532\\n88    56       1     41  45577    9100  23645\\n89    39       1     25  56372    6942  22508\\n90    38       1     45  40218    7501  24130\\n91    34       1     25      0       0   1432\\n92    37       1     30      0   10744  27213\\n93    53       0     22   5214    7710   7388\\n94    29       1     20   5274    2848   5580\\n95    53       1     35  44112    8673  24161\\n96    55       0     20  41178    7710  24583\\n97    46       1     23   8816    6227   7274\\n98    20       0     26   9703    4239   3978\\n99    44       0     33   4169    7424   8082\\n100   27       1     68  40933   11664  27667\\n101   30       1     26  25184    9102  18965\\n102   46       1     47  43107    7385  23883\\n103   48       0     22      0       0   1206\\n104   25       0     20  16241    2262  19606\\n105   33       0     49  30660   10239  19634\\n106   23       0     13   8746    2650   4298\\n107   26       1     20   5015    7750   9851\\n108   37       1     53  50310    9689  27777\\n109   25       1     23   3212    3339   3310\\n110   53       1     13      0    6309   2228\\n111   42       1     28   8017    2118   9834\\n112   32       0     29   7730    5763  13699\\n113   26       0     34  25462    8030  21242\\n114   37       1     33   2014    5111  14133\\n115   59       1     50  49859    7120  24203\\n116   24       1     13   4829    1778   2327\\n117   58       0     47  53965    7824  26141\\n118   31       0     30  12650    9233  19173\\n119   25       0     12    787    2762   3433\\n120   56       1     16   5856    2512  10369\\n121   47       0     43  55494    6260  25664\\n122   25       1     28   8801    5718   9041\\n123   21       0     28   7205   10145   1712\\n124   53       0     30  17091    8908  18655\\n125   36       0     22   7530    5217  11119\\n126   31       0     22   9898    8559   7165\\n127   46       0     47  18335   10701  21376\\n128   46       1     13     91    6581   3510\\n129   58       0     38    529   11730  16837\\n130   27       1     20      0    1751    549\\n131   21       1     23   9508    4866   3014\\n132   29       0     27   1967    4987   3224\\n133   36       0     31  57197   11084  27599\\n134   22       0     20    361    2033   2195\\n135   51       0     28  42443   10957  24498\\n136   31       0     27  38560    6076  20050\\n137   27       1     21      0       0   1114\\n138   51       1     16      0    3564   1819\\n139   47       1     24   5998    7931  13460\\n140   19       0     21   8814       0   3472\\n141   60       1     35  45568   11145  25239\\n142   35       0     16      0    1900    624\\n143   32       1     23      0    1488   2217\\n144   22       0     22   2556    4193   2950\\n145   59       0     41  50049    7428  27304\\n146   35       1     24    465   11458   6112\\n147   29       0     18   6827    4970   6748\\n148   57       1     29  20118    6792  21126\\n149   21       1     29   6455    2655   4717\\n150   44       1     38  46653    9772  28228\\n151   50       1     30    506    4765   4176\\n152   49       0     36  39387    7025  21621\\n153   25       0     16   5256    6262  14039\\n154   45       1     38  47180    8717  22987\\n155   59       0     24   9200    7631  13496\\n156   29       0     48   2747   11301  17878\\n157   44       0     21   7300    6015   7825\\n158   49       0     15   1164    2920   3021\\n159   51       0     18   6327    2998   5665\\n160   57       1     25   9375    9667  16803\\n161   58       1     19      0    5746   1777\\n162   32       0     26  58823    8496  22670\\n163   50       0     28   9248    6850   6142\\n164   41       0     24  41817    8046  27869\\n165   31       1     31   8307    7035   6645\\n166   55       1     24    608    4184   3205\\n167   41       1     43  39884   10866  19621\\n168   41       0     29  12317    9438  18904\\n169   40       1     29   6698    6881  12292\\n170   44       1     44  53708   10953  24567\\n171   34       1     43  56759   10070  24382\\n172   30       0     44  47836    9878  23646\\n173   25       1     75  40579   10197  28253\\n174   34       0     15      0    1543    655\\n175   20       0     24   7733       0   1362\\n176   60       1     12      0    1593   1717\\n177   27       0     11   1142   10919   2942\\n178   27       1     11      0    1363   1909\\n179   24       1     23   9682    5096    790\\n180   21       1     19   9069    3064   1211\\n181   47       0     43  36068   10289  18916\\n182   24       1     13   5619    2616   1769\\n183   47       1     25  19065   10148  19634\\n184   53       0     21   3089    6390  14913\\n185   37       1     24   1482    1164   2533\\n186   24       0     22   2092       0   1262\\n187   51       0     31   6701    8178  16528\\n188   46       1     33   6992    5406  10076\\n189   59       1     78  45008    7661  29191\\n190   29       1     15   6845    8529  16160\\n191   60       1     47  23586    9884  19779\\n192   47       0     27   1683    7961  10826\\n193   30       0     20      0    1612   1955\\n194   46       0     50   2679    9243  17312\\n195   23       0     23   7434    4745   3633\\n196   25       0     25   4881    9999   7960\\n197   24       0     16   8493    5711   2626\\n198   29       1     17      0    4443    576\\n199   50       1     31  10245   10455  19243\\n200   49       1     25   6617    7294  14328\\n201   52       0     36   7021    8363  16863\\n202   45       1     29   1478    1481   2931\\n203   29       0     16      0       0   1367\\n204   25       0     29    766    6155   4519\\n205   23       1     14   8352   10027   3156\\n206   22       1     15   4497    4460   1412\\n207   21       0     19     96    4690   4842\\n208   22       0     27   1885    1375    513\\n209   49       0     16    282    1168   2532\\n210   51       0     28   4021    5005   9438\\n211   44       0     20   3066   10383  15834\\n212   29       0     11    502    7558   4250\\n213   33       1     25   6639    2447   5931\\n214   29       1     21   1455    2770   3658\\n215   51       0     31  37299    8967  20972\\n216   58       1     85  46528    7818  29146\\n217   43       1     21   5988    7691   8500\\n218   31       0     15    467    4887   4620\\n219   30       0     20    929    5999   9937\\n220   51       1     41  51193    8708  26148\\n221   28       1     24   5274    6962   9591\\n222   40       0     48   8938   11358  18064\\n223   29       1     50   9660   10076  18120\\n224   35       1     33   9013    7990  10916\\n225   23       1     17   8467       0   1030\\n226   32       1     27      0    7830  24433\\n227   25       0     49  22351    6524  22151\\n228   47       1     32   5643    1331   8433\\n229   57       0     20   4770   10681  17124\\n230   40       1     30    682    6189   3382\\n231   27       0     13      0     240    650\\n232   37       1     30   5922    5939   7483\\n233   52       1     35   3254    6781  13868\\n234   19       1     25   6272       0   1318\\n235   28       1     27   2471    1217   7438\\n236   54       1     47  14566    9079  20101\\n237   43       0     38   9358   11881  17304\\n238   20       0     24   4737    5132   1187\\n239   42       1     15   1978    5681  12561\\n240   36       0     45  13251   10961  21513\\n241   28       1     20    414    9900   5265\\n242   22       0     12   7868    1923   2450\\n243   21       1     11   9725    2787   2978\\n244   50       1     32   9333    9863  15849\\n245   44       0     35    201    5404   9977\\n246   39       1     16   6642    7522   8990\\n247   25       0     42   8751   11482  17094\\n248   23       1     22    900    2842   2235\\n249   47       0     92  44503   11487  28553\\n250   26       0     14      0    9452   1097\\n251   21       0     11   7186    1182   3854\\n252   36       1     20   9893   11937  15354\\n253   37       1     34   5091    6144   6293\\n254   46       0     44   7026    8124  17677\\n255   54       1     25   2639    3480   9007\\n256   28       1     34  48259   10985  26565\\n257   24       1     14   6962   11810   3910\\n258   52       1     16   5732    5715  10941\\n259   21       0     24   2240   11821   3220\\n260   45       0     29   8187    6727  10915\\n261   60       0     19   8633    9477   7135\\n262   30       1     16   3348    9489   6089\\n263   46       1     22   6367    7983  11274\\n264   26       0     51  45580    7529  27752\\n265   50       0     45  59015   11201  22429\\n266   25       1     14   2169    2862    943\\n267   29       0     35   4339    7852   6025\\n268   55       0     22   4061   11801  15638\\n269   32       0     33   9037    6254   8526\\n270   58       0     16    547    1148   2595\\n271   25       0     39  57929    7792  23856\\n272   55       1     20   5501    4846  17300\\n273   34       0     18   1472    1813   2665\\n274   50       1     32  39329   10059  20516\\n275   26       1     28  19077    8174  21929\\n276   59       1     26  18476   11503  20942\\n277   59       0     20    736    5216  12083\\n278   28       0     79  43266    7995  29770\\n279   30       0     29   3202    7802   7518\\n280   59       0     48  45228    6929  22225\\n281   34       0     29  21312    7645  20910\\n282   39       0     46      0    6244  22488\\n283   29       1     15   6844   11360   6853\\n284   27       1     36  51182    7948  25689\\n285   30       1     40   8368    8658  17172\\n286   23       0     18   8194   11876   3666\\n287   46       0     30  50378    8400  23568\\n288   48       0     23    381    7130   8404\\n289   26       0     32   2853    7352   6403\\n290   49       0     26    864    9044  15851\\n291   45       1     27   1074    2918   2970\\n292   40       1     30   9686    2353   6801\\n293   20       1     17   4278    1021   1826\\n294   24       1     12   6612    9831   3004\\n295   38       1     38  17230    8010  19338\\n296   39       1     23   1504    6868   9952\\n297   47       0     18   5760    6305   8326\\n298   56       0     34  44866    6796  24486\\n299   56       1     35  42169    6874  24129\\n300   28       0     18      0    3823   1347\\n301   21       0     27   7243    3513   1041\\n302   27       0     16      0   11970   1086\\n303   54       1     25  42617   11478  25125\\n304   50       1     49  51261    6787  22306\\n305   23       1     20   5008    9467   2260\\n306   25       0     21   2020   10594  16078\\n307   25       1     17   9086    4523   7607\\n308   36       0     34  57792    7696  24545\\n309   44       0     40  47010    9034  28569\\n310   33       1     78  58432    8140  29414\\n311   21       0     12    903    6314   2440\\n312   54       0     34   5881    9018  16489\\n313   33       1     27    911   10882  17388\\n314   22       0     15   6963    1714   2037\\n315   26       1     21   9238    7388   8762\\n316   32       0     21   1834    4759   5011\\n317   19       1     20   9855    4648   4368\\n318   49       1     25   5017    7705  14308\\n319   54       1     23  16601    8044  18619\\n320   21       0     26   1877    9241   1376\\n321   20       1     14   5225    1927   1825\\n322   29       0     29   1648    2157   3979\\n323   23       0     19   8315    4815   3798\\n324   25       0     22   6647    2431   5417\\n325   32       0     31   2329    5680  16595\\n326   49       0     23  50755    8826  28575\\n327   45       0     92  59414    9996  29322\\n328   22       1     14   1801    3753   3510\\n329   37       1     34   1526    7508   6799\\n330   49       0     15   2244    7956  13291\\n331   53       1     11      0     588    614\\n332   45       0     32  59210    9114  27229\\n333   21       1     28   5042    1314   4912\\n334   44       0     27    742    2537   2795\\n335   20       0     13   4853       0    841\\n336   53       0     33   1130    7848   7344\\n337   29       1     27   1651    3440   5385\\n338   30       0     23   9545    7155  12608\\n339   27       1     30   6268    7866   6427\\n340   53       1     17   7986    6277  12152\\n341   38       1     28      0    1987    763\\n342   39       0     22      0    7769   1147\\n343   57       0     18   7593    4375   5664\\n344   59       1     22   1041    6551  14850\\n345   52       1     29  15752    6277  22145\\n346   27       0     20   1898    4881   3068\\n347   57       0     17   7332    5393   9288\\n348   52       0     27   9991    5148   7930\\n349   38       1     42  40427    8311  28608\\n350   40       0     93  46003   11049  29652\\n351   25       0     26    326    7514   8974\\n352   45       1     20  36043   11711  21566\\n353   45       0     37  35373    6338  18243\\n354   37       0     30    265    2092   7346\\n355   36       1     15   9885    2196  12760\\n356   20       1     27   5343    3185   3168\\n357   19       1     16   8469    6106   3328\\n358   48       0     13    963    2021   2526\\n359   32       1     47  30200    8798  18813\\n360   37       1     10    729    4793   3137\\n361   47       0     28    922    4512   4609\\n362   28       1     12      0    4133   1249\\n363   48       1     36  53089    6539  22503\\n364   60       1     34   8343    4612  10439\\n365   22       0     28   5863    1241    696\\n366   30       1     26      0    5410   1608\\n367   40       1     23  28114    7951  20323\\n368   52       1     46  32748    8779  20304\\n369   33       0     12      0    1293   1686\\n370   42       1     41  32122    8596  19621\\n371   36       0     27   9813    5591   8205\\n372   41       1     94  49308   11373  27887\\n373   59       0     22   2242    8107  16558\\n374   55       1     15   9174    7883   8485\\n375   25       1     14   1239    7402   4450\\n376   20       0     28   5184       0   1089\\n377   26       0     14      0    3020    942\\n378   54       0     23   5239    7194   8940\\n379   29       1     21    464    8558   5029\\n380   57       0     17   1194    7750   3240\\n381   53       0     10   1777    1577   2336\\n382   49       1     26   3571    5246   6191\\n383   48       1     27  48509   11207  25111\\n384   24       0     11   6236       0    733\\n385   34       1     30    783    6224   4511\\n386   35       0     34   7976   10488  15541\\n387   20       1     13   5565       0   3834\\n388   22       1     14   5556    6121   3437\\n389   52       0     43  13129   10652  20129\\n390   24       1     23   3469    4059   2756\\n391   55       1     18      0       0   1432\\n392   34       1     84  51994   11234  29009\\n393   27       1     22  27108    8503  18398\\n394   29       0     21    804    1674   2832\\n395   26       1     23      0       0   1295\\n396   48       0     22  47642    8369  22654\\n397   39       0     23  50067    9636  25979\\n398   20       0     25   4296    4897   3635\\n399   38       0     29   7934    6801  14073\\n400   38       1     23      0    7329   1869\\n401   20       0     26   6176       0   1728\\n402   20       0     20   8846    4598   3002\\n403   48       1     35   2727    7354   6250\\n404   36       0     16   1291    4062   5040\\n405   36       0     32   8232    5653  12965\\n406   43       0     23   6556    2298   9836\\n407   30       1     33   7077    5406  12424\\n408   47       0     29      0    1622   1733\\n409   38       1     29   8950    7054   9231\\n410   30       0     44  20245   10491  20638\\n411   35       1     45  57033    9728  27473\\n412   58       1     30   1804    6182   6317\\n413   42       0     26      0    1288    718\\n414   25       0     22   8619    3299   8506\\n415   24       1     16    215    3324   4765\\n416   33       1     37   8066   10218  16754\\n417   19       0     10   5387    1735   1728\\n418   25       1     20   1783    1767  17843\\n419   27       1     15      0    1696    505\\n420   56       0     97  59607   11425  28252\\n421   52       0     21   1354    1453  14884\\n422   36       1     23   2006    6360   8470\\n423   58       0     37  49785   11586  22965\\n424   19       1     18   9007    1222   2812\\n425   40       0     37  48837   11649  26185\\n426   44       1     30   4157    6280  13996\\n427   48       0     47  23035    8591  22062\\n428   30       0     18   8580   11084  16504\\n429   44       0     27  41921    9930  24016\\n430   49       0     24   6446    5304  11339\\n431   24       0     28   8307    5933   4340\\n432   29       1     25   4278    5941   9167\\n433   53       1     21   1479    2613   3988\\n434   58       1     29   1540    3123  15765\\n435   55       1     37  41027    8230  25490\\n436   28       0     19   1594    1547   2324\\n437   26       0     26   1586    1576   3844\\n438   51       0     33   7420    7866  14195\\n439   60       0     28  46811    7223  24263\\n440   37       1     40  40524    7852  29676\\n441   36       0     34   5413   10905  15422\\n442   30       1     23   7067    6829   5462\\n443   27       0     19      0    1598   2112\\n444   30       1     21  13240   11165  20103\\n445   26       0     23    158    4194   2707\\n446   25       1     11   1818    4524   2838\\n447   48       1     33   8774    7322  14298\\n448   31       1     13   1534    2436   4086\\n449   26       0     28   8129    1868   7189\\n450   42       1     21   4979    6266  11439\\n451   59       1     24   6706    5716  13790\\n452   22       0     27   3690    4009   3240\\n453   23       0     19   1400    4964   3039\\n454   57       1     27   5500   11114  16383\\n455   45       1     17      0    1756   2116\\n456   25       0     33  37689    8869  19247\\n457   50       1     24   9610    6330   7427\\n458   59       1     31   5309    6930  14096\\n459   52       0     27  40796    9183  25577\\n460   27       0     41  31423   11364  18537\\n461   24       1     10   8509    5323   2620\\n462   20       0     22   1064    1781   2890\\n463   46       1     21      0       0   1358\\n464   40       0     45  52849   10534  28023\\n465   31       0     19   1918    6092   5327\\n466   28       0     18   9333    1504   8751\\n467   54       1     19   3155    7499  11564\\n468   36       0     32    221    6021   8396\\n469   60       0     30   4544   11061  15064\\n470   51       0     41  56775   10161  27553\\n471   58       0     48  38892   10090  19629\\n472   21       1     16    511    7299   1205\\n473   59       1     26  58026    9390  25893\\n474   26       0     28   1060    3817   3069\\n475   24       1     15   2457    2596   4240\\n476   45       0     35   8944    7562   6741\\n477   40       1     50   5156    8348  17766\\n478   28       1     15   1510    4530   5198\\n479   19       0     23     61   10541   2819\\n480   35       0     20  59770    6859  29096\\n481   54       1     25    374    1557   2701\\n482   58       1     20    167    2596   5171\\n483   55       0     39  40102   10888  29091\\n484   35       0     29    121    5835   5012\\n485   39       1     12      0    2827    914\\n486   24       1     14   4081    1647   1642\\n487   47       0     41  52355    9253  23527\\n488   37       0     28   7736    5661  12030\\n489   24       0     16   5612    2393    985\\n490   57       1     25     13    4227   3943\\n491   56       1     20    518    3813   3092\\n492   44       0     12      0    4909    620\\n493   37       0     25  16376    6830  20612\\n494   49       0     82  46868    7294  28446\\n495   48       0     33  54936   10566  25470\\n496   39       1     20   2607    7533  11413\\n497   60       1     28    882    3272   4463\\n498   46       1     26    784    5143  11302\\n499   55       0     43   5155   10007  17068\\n500   25       1     32   6594    1284   7356\\n501   36       1     18   8359    6802  10866\\n502   46       1     45  47032    6439  24492\\n503   48       1     13    740    3313   4948\\n504   30       1     20     86    7261  10401\\n505   19       0     20   9972   11739   3418\\n506   31       1     22   2434   10705  16787\\n507   36       0     18   3562    5476   6883\\n508   45       0     26      0    1509   1693\\n509   26       1     29   4879    6230   8971\\n510   46       1     22      0    1374    620\\n511   22       1     25    870       0    856\\n512   29       1     23   4000   11398  25182\\n513   57       1     24      0    2521    658\\n514   30       1     34   8253    7296  12318\\n515   29       1     35   3936    6784  12415\\n516   48       0     18      0       0   1098\\n517   50       0     31   6072    7051   6197\\n518   54       1     26   3050    6045  13132\\n519   58       0     29   6479    7561   9086\\n520   53       1     33  54605    8484  25118\\n521   47       0     29   4700   10750  15487\\n522   32       0     19    816    7707   6210\\n523   49       1     18   1209    4912   3643\\n524   26       0     39  35396    9541  21916\\n525   43       0     23   5974   11612  17397\\n526   56       1     20   4153    8278  17677\\n527   57       1     32   9503    5479   9319\\n528   20       0     16   6812    2727   4765\\n529   32       0     23  54618   11548  26713\\n530   39       1     28   5754    8378  15216\\n531   20       1     15   4556       0   1760\\n532   23       1     18   1837    3115   1712\\n533   19       1     15   9013   11048   4827\\n534   29       1     23  14736    8485  18848\\n535   30       0     19   9392    2388   9569\\n536   47       1     27  40493   11288  28677\\n537   27       0     26   1546    5294   6146\\n538   28       1     12    747    2717   2969\\n539   24       0     22    932    6122   4456\\n540   49       0     11      0    3905    700\\n541   47       1     19     10    4594   3184\\n542   23       1     28   7844    3752   3743\\n543   43       1     27   9169    7789  14720\\n544   44       1     21   9618   10479  18128\\n545   59       0     43  38439    1343  18192\\n546   49       1     29   1413    2875   3266\\n547   55       0     28  52687   11754  25157\\n548   56       1     14    855    4686   4101\\n549   59       0     44  31095   10744  20750\\n550   46       1     33   2246    1006  12617\\n551   19       0     16   1592    2962   2993\\n552   57       1     17   9486    8421  15895\\n553   36       1     42  47886    6604  28134\\n554   49       1     19   9055    3599   5837\\n555   33       0     22   9251   10055  15559\\n556   50       1     25    628    7986   4627\\n557   41       0     20  59473   11414  24119\\n558   24       1     12   9043    3023    782\\n559   29       1     27      0    5579   1400\\n560   60       1     25   2834   11354  15997\\n561   20       1     19   6279       0   2056\\n562   52       1     29  38659    9753  18189\\n563   35       1     32  47815    7212  28964\\n564   28       1     29   4100    5881   9508\\n565   57       0     20   3112    6219  11537\\n566   25       0     25   8776    8206   8240\\n567   36       1     37   6000    8360  25973\\n568   22       0     26   7100    5443   1285\\n569   47       0     30   6809    8573  17930\\n570   49       1     24    192    4659   5256\\n571   59       0     29   9726    2245   5772\\n572   20       1     17   9143    1342   3012\\n573   21       0     26   8797    4525   3982\\n574   51       0     26   1123    2854   3485\\n575   23       0     26   3273    3739   4487\\n576   26       1     36   4471    8513  16678\\n577   29       0     27   6013    5902   6014\\n578   45       1     17   6859    6043   8024\\n579   33       1     28  29303    6158  21984\\n580   40       0     24      0    9746  23903\\n581   56       0     33  26355    9005  18474\\n582   23       1     25   3595   10330   4854\\n583   37       1     26    685   11334  15145\\n584   35       0     14      0    3451    650\\n585   20       0     26     53    1226   1767\\n586   28       1     25  59327    6188  25125\\n587   32       1     47  59719   11622  25652\\n588   52       0     27  53331   11305  23927\\n589   45       1     25    205    2235   3640\\n590   57       1     40  25359    6408  20318\\n591   48       0     26  23932   11522  21573\\n592   42       1     34  45766    7186  25715\\n593   22       1     23   9548    1152   2692\\n594   24       1     24   8159    2033   4565\\n595   40       1     23   7993    4048   9143\\n596   43       0     17   2940    2651  10747\\n597   23       1     12   1435    4675   3906\\n598   43       1     30  28495    3859  18765\\n599   35       0     23    688    4298   5277\\n600   33       0     13      0       0   1393\\n601   20       0     21   3032    1514   2548\\n602   40       0     28   7011   10703  16105\\n603   38       0     18   2985    7424  10379\\n604   39       1     42  26745    8655  18640\\n605   60       0     42  57553    6818  24932\\n606   48       1     13      0     162    982\\n607   58       1     17   1390    3829   3925\\n608   39       0     32  51889    8679  26200\\n609   37       0     20    565    9226   6041\\n610   58       1     35  57014   11064  26599\\n611   28       0     29    386    1076   2869\\n612   51       1     33  41523    6538  27774\\n613   23       1     26   5941    1511   2900\\n614   27       0     31   6228    7637   6240\\n615   38       1     17   8095    1723  12886\\n616   60       1     27   5238    6064  11708\\n617   26       1     42  58194    7865  23849\\n618   59       0     30   9714    6692  12256\\n619   23       1     18   1841    4981   3268\\n620   22       0     30   1283    2908   3724\\n621   37       1     30   9183    9669  15687\\n622   36       0     25   6859    7430  12151\\n623   51       0     39  19251    7608  20011\\n624   26       0     37  48818    9572  24984\\n625   46       0     36  26031    7637  21831\\n626   43       0     24    387    6903   6433\\n627   22       0     11   1586    3379   2734\\n628   23       0     17    778    1853   1955\\n629   23       1     11   6550    1296   1846\\n630   25       1     25   8869    7037   7596\\n631   60       0     95  49927   10718  27591\\n632   37       1     33   3590    7162  10010\\n633   25       0     24   1175    2319   5824\\n634   24       1     24   1378    3852   4455\\n635   21       0     20   6801    1358   1999\\n636   39       1     28    120    4109   3465\\n637   40       1     33   8036    5152   7810\\n638   36       1     31    990    5561   6655\\n639   37       1     41  28617   10538  21881\\n640   20       1     19   4198    3753   4936\\n641   23       1     28   2221       0   1136\\n642   40       0     48  47609    7802  24154\\n643   24       1     14   9343    8197   2184\\n644   47       0     19   2937    5401   9689\\n645   28       0     38  56551   10986  24055\\n646   32       1     21  41945    7410  25338\\n647   57       1     70  47503    9879  29494\\n648   21       0     16   1016       0    604\\n649   38       1     27    821   11904  15542\\n650   43       0     36   7044    9415  17573\\n651   20       0     14    450    1564   1733\\n652   21       0     14   4552    3152   4731\\n653   36       1     21   6914    5490   6776\\n654   31       1     34   3325    2567  16021\\n655   22       1     17   1320    5065   2010\\n656   21       1     10   7513    3275   3487\\n657   27       1     28   1289    5315   8402\\n658   60       1     26   3850   10367  15056\\n659   50       0     24   4987    7388  11401\\n660   37       1     24   1174    4360   2993\\n661   39       0     35   5887    5031  10251\\n662   27       1     22      0    6766   1937\\n663   30       1     25    730    1784   2394\\n664   51       0     33   4160    2399  12021\\n665   23       1     15   3010    1496   2429\\n666   38       1     43  54655    9613  26611\\n667   26       0     11   6742    3514   5669\\n668   45       0     34  42989    7275  22655\\n669   30       0     27   9766    5787   9196\\n670   25       1     12   1411    8381   3779\\n671   33       1     25   9569    6598   8396\\n672   48       0     72  55789   10257  29138\\n673   30       1     29   1427    2214   3310\\n674   30       1     23    773    4557   3267\\n675   37       1     38  41500   11123  22391\\n676   20       1     13   9933    2538   4927\\n677   33       0     23  56544    7079  22752\\n678   43       0     35   7017    5538  12969\\n679   37       0     20  15795    6662  21080\\n680   48       0     28   2727    5962  12753\\n681   41       1     20    514    7553  11340\\n682   36       1     29      0    2818   1181\\n683   46       0     47  52311    6295  23970\\n684   29       0     22      0    4014   1358\\n685   45       0     26   1494    6561   9354\\n686   25       0     47  54010   10605  26873\\n687   55       0     27      0       0   1089\\n688   52       0     19    360    1378   2540\\n689   58       0     16   1782    3500   4583\\n690   54       0     24   2570    5032   7402\\n691   55       0     34   7446    6704   6002\\n692   27       0     26    498    1663   6536\\n693   47       1     21  49843   10631  23932\\n694   24       0     30   4054    3912   1836\\n695   45       1     25   7523    7699  12210\\n696   32       0     17    774    7543  11823\\n697   37       1     29  28426    9582  19887\\n698   51       0     42   5386    9048  17176\\n699   46       0     40  34537    8203  19369\\n700   20       1     27   5147   11844    673\\n701   23       1     11   5098    4222   3920\\n702   31       1     22  56021    7324  25258\\n703   38       1     22   7996    7509   6505\\n704   22       1     11   7323    4726   4137\\n705   26       1     26    361    3405   5304\\n706   42       1     40  15245    8527  29626\\n707   56       0     29      0    1932   2058\\n708   59       1     34  58408   10366  22642\\n709   60       1     26   3181    5057   6205\\n710   37       0     30  55685    7004  27726\\n711   19       1     16   2584       0   3412\\n712   36       0     78  54988   10894  29926\\n713   43       0     20   2352    7075  13996\\n714   51       1     18    988    4475   5026\\n715   35       0     47   8895   10614  17038\\n716   53       0     14      0    4134    712\\n717   37       0     42  37524    9534  19799\\n718   42       0     47  16771    9160  21617\\n719   42       1     17   9885    1273  13163\\n720   21       0     10   6796    4264   4554\\n721   47       0     20  52876   10195  23901\\n722   55       1     30   5957    4109   8591\\n723   27       0     23   1897    1878   2581\\n724   37       0     20   1774    2818   3415\\n725   40       1     26  22675    8270  21211\\n726   32       0     32   6399   11208  17441\\n727   28       0     19   1493    1326   9605\\n728   58       1     12      0    3413   1200\\n729   36       0     13      0       0   1173\\n730   57       0     31  56214    8026  22856\\n731   22       0     28    325    4951   1176\\n732   25       1     32   1291    7666   8004\\n733   28       0     29      0    4668    740\\n734   58       1     78  58360    8286  28842\\n735   36       0     30  42313   11107  25249\\n736   27       1     34   6393    4750   6892\\n737   25       1     47  30734   10995  21282\\n738   36       1     18      0    4128    724\\n739   28       0     18      0    1816   2223\\n740   30       0     22   1875    5306   3094\\n741   20       1     22   4630    6042   3692\\n742   52       0     31  53968    6363  24273\\n743   36       0     22  47614   11390  23197\\n744   42       1     43   5802   11411  17277\\n745   25       1     45  42743    9278  28323\\n746   50       1     20   6671    7388   6011\\n747   27       1     43  55599    9110  25842\\n748   45       0     67  49446   11755  28442\\n749   60       0     24   5256    6425  13401\\n750   46       1     20  53886    9787  25846\\n751   51       0     22   6309    5949  13974\\n752   58       1     40   8374    5511  17702\\n753   48       0     21    709    1420   4894\\n754   38       0     18   5431    6152  14742\\n755   35       1     26   1251    3291   4072\\n756   60       1     30      0    1843   1789\\n757   46       1     29   8725    5797   6042\\n758   60       1     27   3124   10991   8843\\n759   38       1     20      0    1821   1577\\n760   49       0     23    944    3407   4898\\n761   41       1     39  43715    6423  23032\\n762   37       0     33   6796    6646   6842\\n763   45       0     21   2273    5203  11347\\n764   57       0     29  24388    9989  18892\\n765   30       1     27   4378    4721   7163\\n766   43       1     23  52587   10303  28867\\n767   21       1     23   6509    2541   4448\\n768   52       0     50  17501    8574  21540\\n769   40       0     23      0    2544   1213\\n770   37       0     22   8096    5276  17954\\n771   31       0     21  45358    7340  25316\\n772   59       1     26   8464    7632  10481\\n773   55       0     47   2303    8605  17067\\n774   25       1     30   1982    6355   6626\\n775   50       1     13      0    4782   1058\\n776   22       0     24   9925    1278   2316\\n777   22       0     18   5078       0   1349\\n778   22       0     23    863    2695   4564\\n779   22       0     18   1821    6498   4182\\n780   30       0     33    328    5877   9618\\n781   28       0     25    282    9891  15823\\n782   31       1     22    211    4215   4257\\n783   21       0     13   8717    2220   3758\\n784   20       1     19   6454    9566   4793\\n785   25       1     30   8017   10155   6750\\n786   39       1     27   4295    6297  14363\\n787   37       1     23   7298    5521  13410\\n788   42       0     25   6413    7458  15109\\n789   59       0     24    876    4440   5036\\n790   43       0     30    961    6544   7239\\n791   43       0     20   5361    7904   5491\\n792   22       1     28   5603   11276   4762\\n793   20       0     23   5286    6330   2802\\n794   34       1     22   7719    5748  11428\\n795   39       1     37  31049    6143  20153\\n796   27       0     43  46075    8210  24187\\n797   26       1     21   4214   10232   9344\\n798   42       1     41    837    8509  16793\\n799   34       1     48   7258    1774  17364\\n800   55       0     18   9546    7781  12455\\n801   26       1     12      0    5005   1803\\n802   57       1     35   1417    3695   6784\\n803   55       0     28   6564   10795  15769\\n804   56       1     11   1335    3447   4649\\n805   30       1     32   4603    5596  14434\\n806   48       1     77  47931    6082  27515\\n807   52       1     48  42204    9951  25575\\n808   28       1     27      0    2664    948\\n809   35       0     20   6642    5157  14164\\n810   54       1     27    261    4983   5909\\n811   40       1     16     86    1066   2296\\n812   42       1     29    989    1532   2918\\n813   29       1     10     95    2688   5055\\n814   48       1     25  55112    7806  22545\\n815   34       1     19   8804    1340  11685\\n816   54       1     27    497    8448   4965\\n817   40       0     62  42341    7395  29828\\n818   49       0     20   4957    7422  14078\\n819   52       1     18   9865    5563   7596\\n820   48       1     22  42597   10310  23476\\n821   30       1     41  20338    9541  18254\\n822   19       0     15   5079       0   4491\\n823   49       1     67  42738    8310  29581\\n824   47       1     34  37598    7658  22188\\n825   27       0     34   5543    9306  15104\\n826   19       1     19   9106    6238   3351\\n827   52       1     11      0    1782   1569\\n828   46       0     24    819   10531   2503\\n829   57       0     48   7794    9535  17253\\n830   50       0     13      0    1844   2172\\n831   28       1     33   9105    5327   9533\\n832   50       0     37  53891    9330  23489\\n833   42       1     16   8525    5854   9599\\n834   45       1     45  26994    9160  19672\\n835   35       0     28   8286    2838   5610\\n836   24       1     27   9746    3727   4866\\n837   31       0     77  42576    8811  28176\\n838   23       0     10   5330    3593   4756\\n839   50       1     21  56163    7077  28942\\n840   45       0     15   5107    7028   6884\\n841   25       0     25   5214    6171   8188\\n842   43       0     14   7997    3977   5681\\n843   60       0     23  57387   10257  27357\\n844   55       1     87  43893    6272  27906\\n845   52       1     46   7952    8553  17343\\n846   45       0     47  31111   11012  19220\\n847   56       0     42  37581    6415  20428\\n848   47       1     33  27182   10107  19951\\n849   21       0     20   8053    1543   2140\\n850   40       1     15      0    1478   2083\\n851   34       0     28   6934    4757   5762\\n852   25       0     26  50381    9260  26689\\n853   51       0     15    896    4411   2606\\n854   53       0     32  51908    7169  23894\\n855   53       0     30  45904   11507  24449\\n856   24       1     11   9533    3872   4093\\n857   39       1     14    666    1262   2340\\n858   59       1     28   1309    5704   5017\\n859   24       1     22   2418    1444   2071\\n860   55       0     34  42643    8390  22818\\n861   60       1     35  49641   11206  27854\\n862   53       0     16   9944    5376  12033\\n863   21       1     11   1929    3053   4635\\n864   27       0     38  26575    6638  21110\\n865   35       1     22  12105   10490  18772\\n866   27       1     27      0    4963   1217\\n867   29       0     27   3619    2319   8334\\n868   19       1     18   1397    1761   4746\\n869   53       0     23  52381    7355  26912\\n870   21       0     22    788    7293   1394\\n871   43       0     24    467    4981   4241\\n872   24       1     19   3340    1388   2056\\n873   41       0     31   7554    6170   9928\\n874   53       1     27  49721    9359  24791\\n875   43       0     25  34611    7243  21758\\n876   20       0     28   4509    7125   4771\\n877   42       0     30      0    1673   2182\\n878   32       0     21  41751   10401  22527\\n879   28       0     21  46971    7912  24791\\n880   49       0     36  41147    6561  27058\\n881   23       0     28    331    2768   4609\\n882   38       1     23   1161    5184   2917\\n883   23       1     27   1147   11548   4748\\n884   26       1     28   6991    5797   7922\\n885   45       1     30   3956    6991   6729\\n886   26       1     23    898    2769   3286\\n887   41       0     13   1626   10614   2856\\n888   24       0     27   8910       0    731\\n889   19       0     18   5425       0   2488\\n890   36       0     32  48726    9619  22441\\n891   41       1     24    994    6912   4785\\n892   26       0     34   7007    2342   8958\\n893   32       0     28      0    1940   2248\\n894   50       0     12      0    1694   1823\\n895   40       0     25   4553   10386  17121\\n896   37       1     42  36690    9843  21631\\n897   21       1     17   9282    1102   4767\\n898   44       1     34   8508    9686  15689\\n899   57       0     18   8649    5970  14257\\n900   28       1     21  45639    9460  26974\\n901   58       0     20   7945   11817  15133\\n902   49       1     16   6925   10071  15849\\n903   53       1     26   2839    7679   9386\\n904   28       1     22   2109    6417  14063\\n905   49       1     33   6868    6909  11694\\n906   33       1     23   5809    5548  13722\\n907   27       1     30   2359    9308   8113\\n908   27       0     14    829    3703   4272\\n909   30       1     22   9058    7245   9869\\n910   48       0     22  29299   11844  18192\\n911   32       1     33   4738    5555   8479\\n912   24       1     14   4311    1164   4523\\n913   55       1     45  28687    9148  18997\\n914   30       0     42      0    9455  22821\\n915   34       1     28   1993    4597   3969\\n916   42       1     24   4947    6133  11060\\n917   54       1     24  56185    9625  28181\\n918   41       0     31   2847    4411  17561\\n919   45       1     28   1322    4880   3371\\n920   23       0     10   1002       0    642\\n921   27       1     30   4459    5834   7809\\n922   37       0     77  56206    8325  29560\\n923   56       0     24      0     151    652\\n924   44       1     40  58029    8835  23068\\n925   29       0     31  56986   10031  29886\\n926   26       0     14    471    7569   4842\\n927   30       0     26   9078   10185  17821\\n928   32       0     21  30454    2519  18370\\n929   35       1     34   5721    6398  11187\\n930   59       1     26   7207    4178   9378\\n931   37       1     50  26581    8972  21249\\n932   50       0     28    563   10103  17884\\n933   32       0     95  12500    8644  28406\\n934   43       0     72  40353    9082  29209\\n935   24       0     21   2475    6024   3702\\n936   38       1     25   7044    5802   9300\\n937   27       1     30      0    1393   2204\\n938   52       1     18   6456    1526   6264\\n939   34       1     25   6978    8874  15843\\n940   40       1     34  31178    8114  19181\\n941   22       1     19   5536       0   1068\\n942   39       0     30   5051    7027  12527\\n943   28       0     25  47406   10518  28119\\n944   28       1     30    363   11811   2977\\n945   40       1     30   1771    4600   3166\\n946   25       1     10   3205    6823   5332\\n947   53       0     27      0    1895   2232\\n948   38       0     48  25611   11694  21989\\n949   38       0     24    699    4057   5360\\n950   60       0     21   9902    3219  13119\\n951   24       1     26    946    1059   2509\\n952   57       0     21   3658    4221  14767\\n953   44       1     18   8989    4249   5947\\n954   58       0     17   6493    7095  12830\\n955   53       0     23   3574    2189   5888\\n956   58       0     23   5842    6019   9130\\n957   36       0     27   7133   11292  18062\\n958   22       0     11   8778    9829   1593\\n959   19       1     23   4850    3470   4742\\n960   28       1     28   9312    2720  12771\\n961   50       0     29  51343    8713  28511\\n962   47       1     15   3735    6406   6104'"
            ],
            "application/vnd.google.colaboratory.intrinsic+json": {
              "type": "string"
            }
          },
          "metadata": {},
          "execution_count": 54
        }
      ]
    },
    {
      "cell_type": "code",
      "source": [
        "#Inorder to check the number of rows in the table \n",
        "\n",
        "pd.options.display.max_columns\n",
        "#We can explicitly set the max rows\n",
        "pd.options.display.max_columns=9999\n",
        "\n",
        "pd.options.display.max_columns"
      ],
      "metadata": {
        "colab": {
          "base_uri": "https://localhost:8080/"
        },
        "id": "xefvQhISTPYb",
        "outputId": "9c07940d-f4d3-481f-8b77-72ad16cbf152"
      },
      "execution_count": null,
      "outputs": [
        {
          "output_type": "execute_result",
          "data": {
            "text/plain": [
              "9999"
            ]
          },
          "metadata": {},
          "execution_count": 57
        }
      ]
    }
  ]
}